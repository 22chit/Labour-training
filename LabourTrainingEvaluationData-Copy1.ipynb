{
 "cells": [
  {
   "cell_type": "code",
   "execution_count": 9,
   "id": "1b181b19",
   "metadata": {},
   "outputs": [],
   "source": [
    "import numpy as np\n",
    "import pandas as pd\n",
    "import matplotlib.pyplot as plt\n",
    "import seaborn as sns\n",
    "import scipy.stats as stat\n",
    "import warnings\n",
    "warnings.filterwarnings('ignore')\n",
    "pd.set_option('display.max_rows',None)"
   ]
  },
  {
   "cell_type": "code",
   "execution_count": 10,
   "id": "21744693",
   "metadata": {},
   "outputs": [],
   "source": [
    "data= pd.read_csv('/Users/home/Documents/Project techstack/python csv/LabourTrainingEvaluationData.csv')"
   ]
  },
  {
   "cell_type": "code",
   "execution_count": 11,
   "id": "a50990ee",
   "metadata": {},
   "outputs": [
    {
     "data": {
      "text/html": [
       "<div>\n",
       "<style scoped>\n",
       "    .dataframe tbody tr th:only-of-type {\n",
       "        vertical-align: middle;\n",
       "    }\n",
       "\n",
       "    .dataframe tbody tr th {\n",
       "        vertical-align: top;\n",
       "    }\n",
       "\n",
       "    .dataframe thead th {\n",
       "        text-align: right;\n",
       "    }\n",
       "</style>\n",
       "<table border=\"1\" class=\"dataframe\">\n",
       "  <thead>\n",
       "    <tr style=\"text-align: right;\">\n",
       "      <th></th>\n",
       "      <th>Age</th>\n",
       "      <th>Eduacation</th>\n",
       "      <th>Race</th>\n",
       "      <th>Hisp</th>\n",
       "      <th>MaritalStatus</th>\n",
       "      <th>Nodeg</th>\n",
       "      <th>Earnings_1974</th>\n",
       "      <th>Earnings_1975</th>\n",
       "      <th>Earnings_1978</th>\n",
       "    </tr>\n",
       "  </thead>\n",
       "  <tbody>\n",
       "    <tr>\n",
       "      <th>0</th>\n",
       "      <td>45</td>\n",
       "      <td>LessThanHighSchool</td>\n",
       "      <td>NotBlack</td>\n",
       "      <td>NotHispanic</td>\n",
       "      <td>Married</td>\n",
       "      <td>1</td>\n",
       "      <td>21516.670</td>\n",
       "      <td>25243.550</td>\n",
       "      <td>25564.670</td>\n",
       "    </tr>\n",
       "    <tr>\n",
       "      <th>1</th>\n",
       "      <td>21</td>\n",
       "      <td>Intermediate</td>\n",
       "      <td>NotBlack</td>\n",
       "      <td>NotHispanic</td>\n",
       "      <td>NotMarried</td>\n",
       "      <td>0</td>\n",
       "      <td>3175.971</td>\n",
       "      <td>5852.565</td>\n",
       "      <td>13496.080</td>\n",
       "    </tr>\n",
       "    <tr>\n",
       "      <th>2</th>\n",
       "      <td>38</td>\n",
       "      <td>HighSchool</td>\n",
       "      <td>NotBlack</td>\n",
       "      <td>NotHispanic</td>\n",
       "      <td>Married</td>\n",
       "      <td>0</td>\n",
       "      <td>23039.020</td>\n",
       "      <td>25130.760</td>\n",
       "      <td>25564.670</td>\n",
       "    </tr>\n",
       "    <tr>\n",
       "      <th>3</th>\n",
       "      <td>48</td>\n",
       "      <td>LessThanHighSchool</td>\n",
       "      <td>NotBlack</td>\n",
       "      <td>NotHispanic</td>\n",
       "      <td>Married</td>\n",
       "      <td>1</td>\n",
       "      <td>24994.370</td>\n",
       "      <td>25243.550</td>\n",
       "      <td>25564.670</td>\n",
       "    </tr>\n",
       "    <tr>\n",
       "      <th>4</th>\n",
       "      <td>18</td>\n",
       "      <td>LessThanHighSchool</td>\n",
       "      <td>NotBlack</td>\n",
       "      <td>NotHispanic</td>\n",
       "      <td>Married</td>\n",
       "      <td>1</td>\n",
       "      <td>1669.295</td>\n",
       "      <td>10727.610</td>\n",
       "      <td>9860.869</td>\n",
       "    </tr>\n",
       "    <tr>\n",
       "      <th>5</th>\n",
       "      <td>22</td>\n",
       "      <td>LessThanHighSchool</td>\n",
       "      <td>NotBlack</td>\n",
       "      <td>NotHispanic</td>\n",
       "      <td>Married</td>\n",
       "      <td>1</td>\n",
       "      <td>16365.760</td>\n",
       "      <td>18449.270</td>\n",
       "      <td>25564.670</td>\n",
       "    </tr>\n",
       "    <tr>\n",
       "      <th>6</th>\n",
       "      <td>48</td>\n",
       "      <td>LessThanHighSchool</td>\n",
       "      <td>NotBlack</td>\n",
       "      <td>NotHispanic</td>\n",
       "      <td>Married</td>\n",
       "      <td>1</td>\n",
       "      <td>16804.630</td>\n",
       "      <td>16354.600</td>\n",
       "      <td>18059.300</td>\n",
       "    </tr>\n",
       "    <tr>\n",
       "      <th>7</th>\n",
       "      <td>18</td>\n",
       "      <td>LessThanHighSchool</td>\n",
       "      <td>NotBlack</td>\n",
       "      <td>NotHispanic</td>\n",
       "      <td>NotMarried</td>\n",
       "      <td>1</td>\n",
       "      <td>1144.212</td>\n",
       "      <td>3620.032</td>\n",
       "      <td>15739.270</td>\n",
       "    </tr>\n",
       "    <tr>\n",
       "      <th>8</th>\n",
       "      <td>48</td>\n",
       "      <td>LessThanHighSchool</td>\n",
       "      <td>NotBlack</td>\n",
       "      <td>NotHispanic</td>\n",
       "      <td>Married</td>\n",
       "      <td>1</td>\n",
       "      <td>25862.320</td>\n",
       "      <td>25243.550</td>\n",
       "      <td>25564.670</td>\n",
       "    </tr>\n",
       "    <tr>\n",
       "      <th>9</th>\n",
       "      <td>45</td>\n",
       "      <td>HighSchool</td>\n",
       "      <td>NotBlack</td>\n",
       "      <td>NotHispanic</td>\n",
       "      <td>Married</td>\n",
       "      <td>0</td>\n",
       "      <td>25862.320</td>\n",
       "      <td>0.000</td>\n",
       "      <td>3924.842</td>\n",
       "    </tr>\n",
       "  </tbody>\n",
       "</table>\n",
       "</div>"
      ],
      "text/plain": [
       "   Age          Eduacation      Race         Hisp MaritalStatus  Nodeg  \\\n",
       "0   45  LessThanHighSchool  NotBlack  NotHispanic       Married      1   \n",
       "1   21        Intermediate  NotBlack  NotHispanic    NotMarried      0   \n",
       "2   38          HighSchool  NotBlack  NotHispanic       Married      0   \n",
       "3   48  LessThanHighSchool  NotBlack  NotHispanic       Married      1   \n",
       "4   18  LessThanHighSchool  NotBlack  NotHispanic       Married      1   \n",
       "5   22  LessThanHighSchool  NotBlack  NotHispanic       Married      1   \n",
       "6   48  LessThanHighSchool  NotBlack  NotHispanic       Married      1   \n",
       "7   18  LessThanHighSchool  NotBlack  NotHispanic    NotMarried      1   \n",
       "8   48  LessThanHighSchool  NotBlack  NotHispanic       Married      1   \n",
       "9   45          HighSchool  NotBlack  NotHispanic       Married      0   \n",
       "\n",
       "   Earnings_1974  Earnings_1975  Earnings_1978  \n",
       "0      21516.670      25243.550      25564.670  \n",
       "1       3175.971       5852.565      13496.080  \n",
       "2      23039.020      25130.760      25564.670  \n",
       "3      24994.370      25243.550      25564.670  \n",
       "4       1669.295      10727.610       9860.869  \n",
       "5      16365.760      18449.270      25564.670  \n",
       "6      16804.630      16354.600      18059.300  \n",
       "7       1144.212       3620.032      15739.270  \n",
       "8      25862.320      25243.550      25564.670  \n",
       "9      25862.320          0.000       3924.842  "
      ]
     },
     "execution_count": 11,
     "metadata": {},
     "output_type": "execute_result"
    }
   ],
   "source": [
    "data.head(10)"
   ]
  },
  {
   "cell_type": "code",
   "execution_count": 12,
   "id": "7a93ace1",
   "metadata": {},
   "outputs": [
    {
     "data": {
      "text/plain": [
       "(15992, 9)"
      ]
     },
     "execution_count": 12,
     "metadata": {},
     "output_type": "execute_result"
    }
   ],
   "source": [
    "data.shape"
   ]
  },
  {
   "cell_type": "code",
   "execution_count": 13,
   "id": "7e191491",
   "metadata": {},
   "outputs": [
    {
     "name": "stdout",
     "output_type": "stream",
     "text": [
      "<class 'pandas.core.frame.DataFrame'>\n",
      "RangeIndex: 15992 entries, 0 to 15991\n",
      "Data columns (total 9 columns):\n",
      " #   Column         Non-Null Count  Dtype  \n",
      "---  ------         --------------  -----  \n",
      " 0   Age            15992 non-null  int64  \n",
      " 1   Eduacation     15992 non-null  object \n",
      " 2   Race           15992 non-null  object \n",
      " 3   Hisp           15992 non-null  object \n",
      " 4   MaritalStatus  15992 non-null  object \n",
      " 5   Nodeg          15992 non-null  int64  \n",
      " 6   Earnings_1974  15992 non-null  float64\n",
      " 7   Earnings_1975  15992 non-null  float64\n",
      " 8   Earnings_1978  15992 non-null  float64\n",
      "dtypes: float64(3), int64(2), object(4)\n",
      "memory usage: 1.1+ MB\n"
     ]
    }
   ],
   "source": [
    "data.info()#information all about data"
   ]
  },
  {
   "cell_type": "code",
   "execution_count": 14,
   "id": "13dd267d",
   "metadata": {},
   "outputs": [
    {
     "data": {
      "text/html": [
       "<div>\n",
       "<style scoped>\n",
       "    .dataframe tbody tr th:only-of-type {\n",
       "        vertical-align: middle;\n",
       "    }\n",
       "\n",
       "    .dataframe tbody tr th {\n",
       "        vertical-align: top;\n",
       "    }\n",
       "\n",
       "    .dataframe thead th {\n",
       "        text-align: right;\n",
       "    }\n",
       "</style>\n",
       "<table border=\"1\" class=\"dataframe\">\n",
       "  <thead>\n",
       "    <tr style=\"text-align: right;\">\n",
       "      <th></th>\n",
       "      <th>count</th>\n",
       "      <th>mean</th>\n",
       "      <th>std</th>\n",
       "      <th>min</th>\n",
       "      <th>25%</th>\n",
       "      <th>50%</th>\n",
       "      <th>75%</th>\n",
       "      <th>max</th>\n",
       "    </tr>\n",
       "  </thead>\n",
       "  <tbody>\n",
       "    <tr>\n",
       "      <th>Age</th>\n",
       "      <td>15992.0</td>\n",
       "      <td>33.225238</td>\n",
       "      <td>11.045216</td>\n",
       "      <td>16.0</td>\n",
       "      <td>24.00000</td>\n",
       "      <td>31.000</td>\n",
       "      <td>42.0000</td>\n",
       "      <td>55.00</td>\n",
       "    </tr>\n",
       "    <tr>\n",
       "      <th>Nodeg</th>\n",
       "      <td>15992.0</td>\n",
       "      <td>0.295835</td>\n",
       "      <td>0.456432</td>\n",
       "      <td>0.0</td>\n",
       "      <td>0.00000</td>\n",
       "      <td>0.000</td>\n",
       "      <td>1.0000</td>\n",
       "      <td>1.00</td>\n",
       "    </tr>\n",
       "    <tr>\n",
       "      <th>Earnings_1974</th>\n",
       "      <td>15992.0</td>\n",
       "      <td>14016.800304</td>\n",
       "      <td>9569.795893</td>\n",
       "      <td>0.0</td>\n",
       "      <td>4403.45225</td>\n",
       "      <td>15123.580</td>\n",
       "      <td>23584.1800</td>\n",
       "      <td>25862.32</td>\n",
       "    </tr>\n",
       "    <tr>\n",
       "      <th>Earnings_1975</th>\n",
       "      <td>15992.0</td>\n",
       "      <td>13650.803376</td>\n",
       "      <td>9270.403225</td>\n",
       "      <td>0.0</td>\n",
       "      <td>4398.82300</td>\n",
       "      <td>14557.110</td>\n",
       "      <td>22923.7375</td>\n",
       "      <td>25243.55</td>\n",
       "    </tr>\n",
       "    <tr>\n",
       "      <th>Earnings_1978</th>\n",
       "      <td>15992.0</td>\n",
       "      <td>14846.659673</td>\n",
       "      <td>9647.391524</td>\n",
       "      <td>0.0</td>\n",
       "      <td>5669.29800</td>\n",
       "      <td>16421.975</td>\n",
       "      <td>25564.6700</td>\n",
       "      <td>25564.67</td>\n",
       "    </tr>\n",
       "  </tbody>\n",
       "</table>\n",
       "</div>"
      ],
      "text/plain": [
       "                 count          mean          std   min         25%  \\\n",
       "Age            15992.0     33.225238    11.045216  16.0    24.00000   \n",
       "Nodeg          15992.0      0.295835     0.456432   0.0     0.00000   \n",
       "Earnings_1974  15992.0  14016.800304  9569.795893   0.0  4403.45225   \n",
       "Earnings_1975  15992.0  13650.803376  9270.403225   0.0  4398.82300   \n",
       "Earnings_1978  15992.0  14846.659673  9647.391524   0.0  5669.29800   \n",
       "\n",
       "                     50%         75%       max  \n",
       "Age               31.000     42.0000     55.00  \n",
       "Nodeg              0.000      1.0000      1.00  \n",
       "Earnings_1974  15123.580  23584.1800  25862.32  \n",
       "Earnings_1975  14557.110  22923.7375  25243.55  \n",
       "Earnings_1978  16421.975  25564.6700  25564.67  "
      ]
     },
     "execution_count": 14,
     "metadata": {},
     "output_type": "execute_result"
    }
   ],
   "source": [
    "data.describe().T"
   ]
  },
  {
   "cell_type": "code",
   "execution_count": 15,
   "id": "b8481ac6",
   "metadata": {},
   "outputs": [
    {
     "data": {
      "text/html": [
       "<div>\n",
       "<style scoped>\n",
       "    .dataframe tbody tr th:only-of-type {\n",
       "        vertical-align: middle;\n",
       "    }\n",
       "\n",
       "    .dataframe tbody tr th {\n",
       "        vertical-align: top;\n",
       "    }\n",
       "\n",
       "    .dataframe thead th {\n",
       "        text-align: right;\n",
       "    }\n",
       "</style>\n",
       "<table border=\"1\" class=\"dataframe\">\n",
       "  <thead>\n",
       "    <tr style=\"text-align: right;\">\n",
       "      <th></th>\n",
       "      <th>Age</th>\n",
       "      <th>Nodeg</th>\n",
       "      <th>Earnings_1974</th>\n",
       "      <th>Earnings_1975</th>\n",
       "      <th>Earnings_1978</th>\n",
       "    </tr>\n",
       "  </thead>\n",
       "  <tbody>\n",
       "    <tr>\n",
       "      <th>Age</th>\n",
       "      <td>1.000000</td>\n",
       "      <td>0.052376</td>\n",
       "      <td>0.407500</td>\n",
       "      <td>0.349839</td>\n",
       "      <td>0.154274</td>\n",
       "    </tr>\n",
       "    <tr>\n",
       "      <th>Nodeg</th>\n",
       "      <td>0.052376</td>\n",
       "      <td>1.000000</td>\n",
       "      <td>-0.163768</td>\n",
       "      <td>-0.176385</td>\n",
       "      <td>-0.151943</td>\n",
       "    </tr>\n",
       "    <tr>\n",
       "      <th>Earnings_1974</th>\n",
       "      <td>0.407500</td>\n",
       "      <td>-0.163768</td>\n",
       "      <td>1.000000</td>\n",
       "      <td>0.870181</td>\n",
       "      <td>0.639334</td>\n",
       "    </tr>\n",
       "    <tr>\n",
       "      <th>Earnings_1975</th>\n",
       "      <td>0.349839</td>\n",
       "      <td>-0.176385</td>\n",
       "      <td>0.870181</td>\n",
       "      <td>1.000000</td>\n",
       "      <td>0.668310</td>\n",
       "    </tr>\n",
       "    <tr>\n",
       "      <th>Earnings_1978</th>\n",
       "      <td>0.154274</td>\n",
       "      <td>-0.151943</td>\n",
       "      <td>0.639334</td>\n",
       "      <td>0.668310</td>\n",
       "      <td>1.000000</td>\n",
       "    </tr>\n",
       "  </tbody>\n",
       "</table>\n",
       "</div>"
      ],
      "text/plain": [
       "                    Age     Nodeg  Earnings_1974  Earnings_1975  Earnings_1978\n",
       "Age            1.000000  0.052376       0.407500       0.349839       0.154274\n",
       "Nodeg          0.052376  1.000000      -0.163768      -0.176385      -0.151943\n",
       "Earnings_1974  0.407500 -0.163768       1.000000       0.870181       0.639334\n",
       "Earnings_1975  0.349839 -0.176385       0.870181       1.000000       0.668310\n",
       "Earnings_1978  0.154274 -0.151943       0.639334       0.668310       1.000000"
      ]
     },
     "execution_count": 15,
     "metadata": {},
     "output_type": "execute_result"
    }
   ],
   "source": [
    "data.corr()"
   ]
  },
  {
   "cell_type": "code",
   "execution_count": 16,
   "id": "5e469bc3",
   "metadata": {},
   "outputs": [
    {
     "data": {
      "text/plain": [
       "Earnings_1978    1.000000\n",
       "Earnings_1975    0.668310\n",
       "Earnings_1974    0.639334\n",
       "Age              0.154274\n",
       "Nodeg           -0.151943\n",
       "Name: Earnings_1978, dtype: float64"
      ]
     },
     "execution_count": 16,
     "metadata": {},
     "output_type": "execute_result"
    }
   ],
   "source": [
    "data.corr()['Earnings_1978'].sort_values(ascending=False)\n"
   ]
  },
  {
   "cell_type": "code",
   "execution_count": 17,
   "id": "7c829ded",
   "metadata": {},
   "outputs": [
    {
     "data": {
      "text/plain": [
       "<AxesSubplot:>"
      ]
     },
     "execution_count": 17,
     "metadata": {},
     "output_type": "execute_result"
    },
    {
     "data": {
      "image/png": "[encoded data removed]",
      "text/plain": [
       "<Figure size 432x288 with 2 Axes>"
      ]
     },
     "metadata": {
      "needs_background": "light"
     },
     "output_type": "display_data"
    }
   ],
   "source": [
    "sns.heatmap(data.corr())"
   ]
  },
  {
   "cell_type": "code",
   "execution_count": 18,
   "id": "25360109",
   "metadata": {},
   "outputs": [
    {
     "data": {
      "text/plain": [
       "<AxesSubplot:>"
      ]
     },
     "execution_count": 18,
     "metadata": {},
     "output_type": "execute_result"
    },
    {
     "data": {
      "image/png": "[encoded data removed]",
      "text/plain": [
       "<Figure size 432x288 with 2 Axes>"
      ]
     },
     "metadata": {
      "needs_background": "light"
     },
     "output_type": "display_data"
    }
   ],
   "source": [
    "sns.heatmap(data.corr(),annot=True)"
   ]
  },
  {
   "cell_type": "code",
   "execution_count": 19,
   "id": "8e989455",
   "metadata": {},
   "outputs": [
    {
     "data": {
      "image/png": "[encoded data removed]",
      "text/plain": [
       "<Figure size 720x504 with 2 Axes>"
      ]
     },
     "metadata": {
      "needs_background": "light"
     },
     "output_type": "display_data"
    }
   ],
   "source": [
    "plt.figure(figsize=(10,7))\n",
    "sns.heatmap(data.corr(),annot=True,vmin=-1,vmax=1,cmap='vlag')\n",
    "plt.show()"
   ]
  },
  {
   "cell_type": "code",
   "execution_count": 20,
   "id": "e8b3ec66",
   "metadata": {},
   "outputs": [
    {
     "data": {
      "text/plain": [
       "Age              0\n",
       "Eduacation       0\n",
       "Race             0\n",
       "Hisp             0\n",
       "MaritalStatus    0\n",
       "Nodeg            0\n",
       "Earnings_1974    0\n",
       "Earnings_1975    0\n",
       "Earnings_1978    0\n",
       "dtype: int64"
      ]
     },
     "execution_count": 20,
     "metadata": {},
     "output_type": "execute_result"
    }
   ],
   "source": [
    "data.isnull().sum()"
   ]
  },
  {
   "cell_type": "code",
   "execution_count": 21,
   "id": "edf9fb31",
   "metadata": {},
   "outputs": [
    {
     "data": {
      "text/html": [
       "<div>\n",
       "<style scoped>\n",
       "    .dataframe tbody tr th:only-of-type {\n",
       "        vertical-align: middle;\n",
       "    }\n",
       "\n",
       "    .dataframe tbody tr th {\n",
       "        vertical-align: top;\n",
       "    }\n",
       "\n",
       "    .dataframe thead th {\n",
       "        text-align: right;\n",
       "    }\n",
       "</style>\n",
       "<table border=\"1\" class=\"dataframe\">\n",
       "  <thead>\n",
       "    <tr style=\"text-align: right;\">\n",
       "      <th></th>\n",
       "      <th>Age</th>\n",
       "      <th>Eduacation</th>\n",
       "      <th>Race</th>\n",
       "      <th>Hisp</th>\n",
       "      <th>MaritalStatus</th>\n",
       "      <th>Nodeg</th>\n",
       "      <th>Earnings_1974</th>\n",
       "      <th>Earnings_1975</th>\n",
       "      <th>Earnings_1978</th>\n",
       "    </tr>\n",
       "  </thead>\n",
       "  <tbody>\n",
       "    <tr>\n",
       "      <th>0</th>\n",
       "      <td>45</td>\n",
       "      <td>LessThanHighSchool</td>\n",
       "      <td>NotBlack</td>\n",
       "      <td>NotHispanic</td>\n",
       "      <td>Married</td>\n",
       "      <td>1</td>\n",
       "      <td>21516.6700</td>\n",
       "      <td>25243.550</td>\n",
       "      <td>25564.670</td>\n",
       "    </tr>\n",
       "    <tr>\n",
       "      <th>1</th>\n",
       "      <td>21</td>\n",
       "      <td>Intermediate</td>\n",
       "      <td>NotBlack</td>\n",
       "      <td>NotHispanic</td>\n",
       "      <td>NotMarried</td>\n",
       "      <td>0</td>\n",
       "      <td>3175.9710</td>\n",
       "      <td>5852.565</td>\n",
       "      <td>13496.080</td>\n",
       "    </tr>\n",
       "    <tr>\n",
       "      <th>2</th>\n",
       "      <td>38</td>\n",
       "      <td>HighSchool</td>\n",
       "      <td>NotBlack</td>\n",
       "      <td>NotHispanic</td>\n",
       "      <td>Married</td>\n",
       "      <td>0</td>\n",
       "      <td>23039.0200</td>\n",
       "      <td>25130.760</td>\n",
       "      <td>25564.670</td>\n",
       "    </tr>\n",
       "    <tr>\n",
       "      <th>3</th>\n",
       "      <td>48</td>\n",
       "      <td>LessThanHighSchool</td>\n",
       "      <td>NotBlack</td>\n",
       "      <td>NotHispanic</td>\n",
       "      <td>Married</td>\n",
       "      <td>1</td>\n",
       "      <td>24994.3700</td>\n",
       "      <td>25243.550</td>\n",
       "      <td>25564.670</td>\n",
       "    </tr>\n",
       "    <tr>\n",
       "      <th>4</th>\n",
       "      <td>18</td>\n",
       "      <td>LessThanHighSchool</td>\n",
       "      <td>NotBlack</td>\n",
       "      <td>NotHispanic</td>\n",
       "      <td>Married</td>\n",
       "      <td>1</td>\n",
       "      <td>1669.2950</td>\n",
       "      <td>10727.610</td>\n",
       "      <td>9860.869</td>\n",
       "    </tr>\n",
       "    <tr>\n",
       "      <th>5</th>\n",
       "      <td>22</td>\n",
       "      <td>LessThanHighSchool</td>\n",
       "      <td>NotBlack</td>\n",
       "      <td>NotHispanic</td>\n",
       "      <td>Married</td>\n",
       "      <td>1</td>\n",
       "      <td>16365.7600</td>\n",
       "      <td>18449.270</td>\n",
       "      <td>25564.670</td>\n",
       "    </tr>\n",
       "    <tr>\n",
       "      <th>6</th>\n",
       "      <td>48</td>\n",
       "      <td>LessThanHighSchool</td>\n",
       "      <td>NotBlack</td>\n",
       "      <td>NotHispanic</td>\n",
       "      <td>Married</td>\n",
       "      <td>1</td>\n",
       "      <td>16804.6300</td>\n",
       "      <td>16354.600</td>\n",
       "      <td>18059.300</td>\n",
       "    </tr>\n",
       "    <tr>\n",
       "      <th>7</th>\n",
       "      <td>18</td>\n",
       "      <td>LessThanHighSchool</td>\n",
       "      <td>NotBlack</td>\n",
       "      <td>NotHispanic</td>\n",
       "      <td>NotMarried</td>\n",
       "      <td>1</td>\n",
       "      <td>1144.2120</td>\n",
       "      <td>3620.032</td>\n",
       "      <td>15739.270</td>\n",
       "    </tr>\n",
       "    <tr>\n",
       "      <th>8</th>\n",
       "      <td>48</td>\n",
       "      <td>LessThanHighSchool</td>\n",
       "      <td>NotBlack</td>\n",
       "      <td>NotHispanic</td>\n",
       "      <td>Married</td>\n",
       "      <td>1</td>\n",
       "      <td>25862.3200</td>\n",
       "      <td>25243.550</td>\n",
       "      <td>25564.670</td>\n",
       "    </tr>\n",
       "    <tr>\n",
       "      <th>9</th>\n",
       "      <td>45</td>\n",
       "      <td>HighSchool</td>\n",
       "      <td>NotBlack</td>\n",
       "      <td>NotHispanic</td>\n",
       "      <td>Married</td>\n",
       "      <td>0</td>\n",
       "      <td>25862.3200</td>\n",
       "      <td>0.000</td>\n",
       "      <td>3924.842</td>\n",
       "    </tr>\n",
       "    <tr>\n",
       "      <th>10</th>\n",
       "      <td>34</td>\n",
       "      <td>Intermediate</td>\n",
       "      <td>NotBlack</td>\n",
       "      <td>NotHispanic</td>\n",
       "      <td>Married</td>\n",
       "      <td>0</td>\n",
       "      <td>25862.3200</td>\n",
       "      <td>23746.840</td>\n",
       "      <td>25564.670</td>\n",
       "    </tr>\n",
       "    <tr>\n",
       "      <th>11</th>\n",
       "      <td>16</td>\n",
       "      <td>LessThanHighSchool</td>\n",
       "      <td>NotBlack</td>\n",
       "      <td>NotHispanic</td>\n",
       "      <td>NotMarried</td>\n",
       "      <td>1</td>\n",
       "      <td>1026.6560</td>\n",
       "      <td>1224.581</td>\n",
       "      <td>6847.785</td>\n",
       "    </tr>\n",
       "    <tr>\n",
       "      <th>12</th>\n",
       "      <td>53</td>\n",
       "      <td>LessThanHighSchool</td>\n",
       "      <td>NotBlack</td>\n",
       "      <td>NotHispanic</td>\n",
       "      <td>Married</td>\n",
       "      <td>1</td>\n",
       "      <td>25862.3200</td>\n",
       "      <td>25243.550</td>\n",
       "      <td>25564.670</td>\n",
       "    </tr>\n",
       "    <tr>\n",
       "      <th>13</th>\n",
       "      <td>19</td>\n",
       "      <td>HighSchool</td>\n",
       "      <td>NotBlack</td>\n",
       "      <td>NotHispanic</td>\n",
       "      <td>NotMarried</td>\n",
       "      <td>0</td>\n",
       "      <td>867.9552</td>\n",
       "      <td>4386.290</td>\n",
       "      <td>8777.696</td>\n",
       "    </tr>\n",
       "    <tr>\n",
       "      <th>14</th>\n",
       "      <td>27</td>\n",
       "      <td>HighSchool</td>\n",
       "      <td>NotBlack</td>\n",
       "      <td>NotHispanic</td>\n",
       "      <td>Married</td>\n",
       "      <td>0</td>\n",
       "      <td>25862.3200</td>\n",
       "      <td>19047.240</td>\n",
       "      <td>19214.880</td>\n",
       "    </tr>\n",
       "    <tr>\n",
       "      <th>15</th>\n",
       "      <td>32</td>\n",
       "      <td>LessThanHighSchool</td>\n",
       "      <td>NotBlack</td>\n",
       "      <td>NotHispanic</td>\n",
       "      <td>Married</td>\n",
       "      <td>1</td>\n",
       "      <td>20427.3200</td>\n",
       "      <td>23374.450</td>\n",
       "      <td>9179.637</td>\n",
       "    </tr>\n",
       "    <tr>\n",
       "      <th>16</th>\n",
       "      <td>27</td>\n",
       "      <td>HighSchool</td>\n",
       "      <td>NotBlack</td>\n",
       "      <td>NotHispanic</td>\n",
       "      <td>Married</td>\n",
       "      <td>0</td>\n",
       "      <td>20983.7500</td>\n",
       "      <td>14822.080</td>\n",
       "      <td>25564.670</td>\n",
       "    </tr>\n",
       "    <tr>\n",
       "      <th>17</th>\n",
       "      <td>46</td>\n",
       "      <td>LessThanHighSchool</td>\n",
       "      <td>NotBlack</td>\n",
       "      <td>NotHispanic</td>\n",
       "      <td>Married</td>\n",
       "      <td>1</td>\n",
       "      <td>19171.4300</td>\n",
       "      <td>1317.677</td>\n",
       "      <td>0.000</td>\n",
       "    </tr>\n",
       "    <tr>\n",
       "      <th>18</th>\n",
       "      <td>24</td>\n",
       "      <td>Intermediate</td>\n",
       "      <td>NotBlack</td>\n",
       "      <td>NotHispanic</td>\n",
       "      <td>NotMarried</td>\n",
       "      <td>0</td>\n",
       "      <td>20830.9200</td>\n",
       "      <td>25243.550</td>\n",
       "      <td>23903.710</td>\n",
       "    </tr>\n",
       "    <tr>\n",
       "      <th>19</th>\n",
       "      <td>22</td>\n",
       "      <td>Intermediate</td>\n",
       "      <td>NotBlack</td>\n",
       "      <td>NotHispanic</td>\n",
       "      <td>NotMarried</td>\n",
       "      <td>0</td>\n",
       "      <td>11036.5500</td>\n",
       "      <td>10351.650</td>\n",
       "      <td>6556.673</td>\n",
       "    </tr>\n",
       "    <tr>\n",
       "      <th>20</th>\n",
       "      <td>49</td>\n",
       "      <td>LessThanHighSchool</td>\n",
       "      <td>NotBlack</td>\n",
       "      <td>NotHispanic</td>\n",
       "      <td>Married</td>\n",
       "      <td>1</td>\n",
       "      <td>391.8534</td>\n",
       "      <td>0.000</td>\n",
       "      <td>0.000</td>\n",
       "    </tr>\n",
       "    <tr>\n",
       "      <th>21</th>\n",
       "      <td>17</td>\n",
       "      <td>LessThanHighSchool</td>\n",
       "      <td>NotBlack</td>\n",
       "      <td>NotHispanic</td>\n",
       "      <td>NotMarried</td>\n",
       "      <td>1</td>\n",
       "      <td>0.0000</td>\n",
       "      <td>0.000</td>\n",
       "      <td>4755.324</td>\n",
       "    </tr>\n",
       "    <tr>\n",
       "      <th>22</th>\n",
       "      <td>29</td>\n",
       "      <td>Intermediate</td>\n",
       "      <td>NotBlack</td>\n",
       "      <td>NotHispanic</td>\n",
       "      <td>Married</td>\n",
       "      <td>0</td>\n",
       "      <td>21499.0300</td>\n",
       "      <td>22586.710</td>\n",
       "      <td>20923.130</td>\n",
       "    </tr>\n",
       "    <tr>\n",
       "      <th>23</th>\n",
       "      <td>28</td>\n",
       "      <td>graduate</td>\n",
       "      <td>NotBlack</td>\n",
       "      <td>NotHispanic</td>\n",
       "      <td>Married</td>\n",
       "      <td>0</td>\n",
       "      <td>16500.9500</td>\n",
       "      <td>0.000</td>\n",
       "      <td>10267.240</td>\n",
       "    </tr>\n",
       "    <tr>\n",
       "      <th>24</th>\n",
       "      <td>46</td>\n",
       "      <td>HighSchool</td>\n",
       "      <td>NotBlack</td>\n",
       "      <td>NotHispanic</td>\n",
       "      <td>Married</td>\n",
       "      <td>0</td>\n",
       "      <td>24814.1100</td>\n",
       "      <td>24967.840</td>\n",
       "      <td>19339.010</td>\n",
       "    </tr>\n",
       "  </tbody>\n",
       "</table>\n",
       "</div>"
      ],
      "text/plain": [
       "    Age          Eduacation      Race         Hisp MaritalStatus  Nodeg  \\\n",
       "0    45  LessThanHighSchool  NotBlack  NotHispanic       Married      1   \n",
       "1    21        Intermediate  NotBlack  NotHispanic    NotMarried      0   \n",
       "2    38          HighSchool  NotBlack  NotHispanic       Married      0   \n",
       "3    48  LessThanHighSchool  NotBlack  NotHispanic       Married      1   \n",
       "4    18  LessThanHighSchool  NotBlack  NotHispanic       Married      1   \n",
       "5    22  LessThanHighSchool  NotBlack  NotHispanic       Married      1   \n",
       "6    48  LessThanHighSchool  NotBlack  NotHispanic       Married      1   \n",
       "7    18  LessThanHighSchool  NotBlack  NotHispanic    NotMarried      1   \n",
       "8    48  LessThanHighSchool  NotBlack  NotHispanic       Married      1   \n",
       "9    45          HighSchool  NotBlack  NotHispanic       Married      0   \n",
       "10   34        Intermediate  NotBlack  NotHispanic       Married      0   \n",
       "11   16  LessThanHighSchool  NotBlack  NotHispanic    NotMarried      1   \n",
       "12   53  LessThanHighSchool  NotBlack  NotHispanic       Married      1   \n",
       "13   19          HighSchool  NotBlack  NotHispanic    NotMarried      0   \n",
       "14   27          HighSchool  NotBlack  NotHispanic       Married      0   \n",
       "15   32  LessThanHighSchool  NotBlack  NotHispanic       Married      1   \n",
       "16   27          HighSchool  NotBlack  NotHispanic       Married      0   \n",
       "17   46  LessThanHighSchool  NotBlack  NotHispanic       Married      1   \n",
       "18   24        Intermediate  NotBlack  NotHispanic    NotMarried      0   \n",
       "19   22        Intermediate  NotBlack  NotHispanic    NotMarried      0   \n",
       "20   49  LessThanHighSchool  NotBlack  NotHispanic       Married      1   \n",
       "21   17  LessThanHighSchool  NotBlack  NotHispanic    NotMarried      1   \n",
       "22   29        Intermediate  NotBlack  NotHispanic       Married      0   \n",
       "23   28            graduate  NotBlack  NotHispanic       Married      0   \n",
       "24   46          HighSchool  NotBlack  NotHispanic       Married      0   \n",
       "\n",
       "    Earnings_1974  Earnings_1975  Earnings_1978  \n",
       "0      21516.6700      25243.550      25564.670  \n",
       "1       3175.9710       5852.565      13496.080  \n",
       "2      23039.0200      25130.760      25564.670  \n",
       "3      24994.3700      25243.550      25564.670  \n",
       "4       1669.2950      10727.610       9860.869  \n",
       "5      16365.7600      18449.270      25564.670  \n",
       "6      16804.6300      16354.600      18059.300  \n",
       "7       1144.2120       3620.032      15739.270  \n",
       "8      25862.3200      25243.550      25564.670  \n",
       "9      25862.3200          0.000       3924.842  \n",
       "10     25862.3200      23746.840      25564.670  \n",
       "11      1026.6560       1224.581       6847.785  \n",
       "12     25862.3200      25243.550      25564.670  \n",
       "13       867.9552       4386.290       8777.696  \n",
       "14     25862.3200      19047.240      19214.880  \n",
       "15     20427.3200      23374.450       9179.637  \n",
       "16     20983.7500      14822.080      25564.670  \n",
       "17     19171.4300       1317.677          0.000  \n",
       "18     20830.9200      25243.550      23903.710  \n",
       "19     11036.5500      10351.650       6556.673  \n",
       "20       391.8534          0.000          0.000  \n",
       "21         0.0000          0.000       4755.324  \n",
       "22     21499.0300      22586.710      20923.130  \n",
       "23     16500.9500          0.000      10267.240  \n",
       "24     24814.1100      24967.840      19339.010  "
      ]
     },
     "execution_count": 21,
     "metadata": {},
     "output_type": "execute_result"
    }
   ],
   "source": [
    "data.head(25)"
   ]
  },
  {
   "cell_type": "code",
   "execution_count": 22,
   "id": "2643dbca",
   "metadata": {},
   "outputs": [
    {
     "data": {
      "text/plain": [
       "<AxesSubplot:xlabel='Earnings_1978', ylabel='Count'>"
      ]
     },
     "execution_count": 22,
     "metadata": {},
     "output_type": "execute_result"
    },
    {
     "data": {
      "image/png": "[encoded data removed]",
      "text/plain": [
       "<Figure size 432x288 with 1 Axes>"
      ]
     },
     "metadata": {
      "needs_background": "light"
     },
     "output_type": "display_data"
    }
   ],
   "source": [
    "sns.histplot(data['Earnings_1978'])"
   ]
  },
  {
   "cell_type": "code",
   "execution_count": 23,
   "id": "5e08e1f6",
   "metadata": {},
   "outputs": [
    {
     "data": {
      "text/plain": [
       "<AxesSubplot:xlabel='Earnings_1978'>"
      ]
     },
     "execution_count": 23,
     "metadata": {},
     "output_type": "execute_result"
    },
    {
     "data": {
      "image/png": "[encoded data removed]",
      "text/plain": [
       "<Figure size 720x864 with 3 Axes>"
      ]
     },
     "metadata": {
      "needs_background": "light"
     },
     "output_type": "display_data"
    }
   ],
   "source": [
    "plt.figure(figsize=(10,12))\n",
    "plt.subplot(3,1,1)\n",
    "sns.boxplot(data['Earnings_1974'])\n",
    "plt.subplot(3,1,2)\n",
    "sns.boxplot(data['Earnings_1975'])\n",
    "plt.subplot(3,1,3)\n",
    "sns.boxplot(data['Earnings_1978'])\n"
   ]
  },
  {
   "cell_type": "code",
   "execution_count": 24,
   "id": "cb425e15",
   "metadata": {},
   "outputs": [
    {
     "data": {
      "text/plain": [
       "Age              0.0\n",
       "Eduacation       0.0\n",
       "Race             0.0\n",
       "Hisp             0.0\n",
       "MaritalStatus    0.0\n",
       "Nodeg            0.0\n",
       "Earnings_1974    0.0\n",
       "Earnings_1975    0.0\n",
       "Earnings_1978    0.0\n",
       "dtype: float64"
      ]
     },
     "execution_count": 24,
     "metadata": {},
     "output_type": "execute_result"
    }
   ],
   "source": [
    "((data.isnull().sum()/data.isnull().count())*100).sort_values(ascending=False)"
   ]
  },
  {
   "cell_type": "code",
   "execution_count": 25,
   "id": "7309ae76",
   "metadata": {},
   "outputs": [
    {
     "data": {
      "text/plain": [
       "14846.659672906011"
      ]
     },
     "execution_count": 25,
     "metadata": {},
     "output_type": "execute_result"
    }
   ],
   "source": [
    "(data['Earnings_1978']).mean()"
   ]
  },
  {
   "cell_type": "code",
   "execution_count": 26,
   "id": "96354c7d",
   "metadata": {},
   "outputs": [],
   "source": [
    "from sklearn.preprocessing import LabelEncoder\n"
   ]
  },
  {
   "cell_type": "code",
   "execution_count": 27,
   "id": "ff3c0677",
   "metadata": {},
   "outputs": [],
   "source": [
    "le = LabelEncoder()\n",
    "data['Eduacation']= le.fit_transform(data['Eduacation'])\n",
    "data['Race']= le.fit_transform(data['Race'])\n",
    "data['Hisp']= le.fit_transform(data['Hisp'])\n",
    "data['MaritalStatus']= le.fit_transform(data['MaritalStatus'])"
   ]
  },
  {
   "cell_type": "code",
   "execution_count": 28,
   "id": "4af0fb44",
   "metadata": {},
   "outputs": [
    {
     "data": {
      "text/html": [
       "<div>\n",
       "<style scoped>\n",
       "    .dataframe tbody tr th:only-of-type {\n",
       "        vertical-align: middle;\n",
       "    }\n",
       "\n",
       "    .dataframe tbody tr th {\n",
       "        vertical-align: top;\n",
       "    }\n",
       "\n",
       "    .dataframe thead th {\n",
       "        text-align: right;\n",
       "    }\n",
       "</style>\n",
       "<table border=\"1\" class=\"dataframe\">\n",
       "  <thead>\n",
       "    <tr style=\"text-align: right;\">\n",
       "      <th></th>\n",
       "      <th>Age</th>\n",
       "      <th>Eduacation</th>\n",
       "      <th>Race</th>\n",
       "      <th>Hisp</th>\n",
       "      <th>MaritalStatus</th>\n",
       "      <th>Nodeg</th>\n",
       "      <th>Earnings_1974</th>\n",
       "      <th>Earnings_1975</th>\n",
       "      <th>Earnings_1978</th>\n",
       "    </tr>\n",
       "  </thead>\n",
       "  <tbody>\n",
       "    <tr>\n",
       "      <th>0</th>\n",
       "      <td>45</td>\n",
       "      <td>2</td>\n",
       "      <td>0</td>\n",
       "      <td>0</td>\n",
       "      <td>0</td>\n",
       "      <td>1</td>\n",
       "      <td>21516.670</td>\n",
       "      <td>25243.550</td>\n",
       "      <td>25564.670</td>\n",
       "    </tr>\n",
       "    <tr>\n",
       "      <th>1</th>\n",
       "      <td>21</td>\n",
       "      <td>1</td>\n",
       "      <td>0</td>\n",
       "      <td>0</td>\n",
       "      <td>1</td>\n",
       "      <td>0</td>\n",
       "      <td>3175.971</td>\n",
       "      <td>5852.565</td>\n",
       "      <td>13496.080</td>\n",
       "    </tr>\n",
       "    <tr>\n",
       "      <th>2</th>\n",
       "      <td>38</td>\n",
       "      <td>0</td>\n",
       "      <td>0</td>\n",
       "      <td>0</td>\n",
       "      <td>0</td>\n",
       "      <td>0</td>\n",
       "      <td>23039.020</td>\n",
       "      <td>25130.760</td>\n",
       "      <td>25564.670</td>\n",
       "    </tr>\n",
       "    <tr>\n",
       "      <th>3</th>\n",
       "      <td>48</td>\n",
       "      <td>2</td>\n",
       "      <td>0</td>\n",
       "      <td>0</td>\n",
       "      <td>0</td>\n",
       "      <td>1</td>\n",
       "      <td>24994.370</td>\n",
       "      <td>25243.550</td>\n",
       "      <td>25564.670</td>\n",
       "    </tr>\n",
       "    <tr>\n",
       "      <th>4</th>\n",
       "      <td>18</td>\n",
       "      <td>2</td>\n",
       "      <td>0</td>\n",
       "      <td>0</td>\n",
       "      <td>0</td>\n",
       "      <td>1</td>\n",
       "      <td>1669.295</td>\n",
       "      <td>10727.610</td>\n",
       "      <td>9860.869</td>\n",
       "    </tr>\n",
       "  </tbody>\n",
       "</table>\n",
       "</div>"
      ],
      "text/plain": [
       "   Age  Eduacation  Race  Hisp  MaritalStatus  Nodeg  Earnings_1974  \\\n",
       "0   45           2     0     0              0      1      21516.670   \n",
       "1   21           1     0     0              1      0       3175.971   \n",
       "2   38           0     0     0              0      0      23039.020   \n",
       "3   48           2     0     0              0      1      24994.370   \n",
       "4   18           2     0     0              0      1       1669.295   \n",
       "\n",
       "   Earnings_1975  Earnings_1978  \n",
       "0      25243.550      25564.670  \n",
       "1       5852.565      13496.080  \n",
       "2      25130.760      25564.670  \n",
       "3      25243.550      25564.670  \n",
       "4      10727.610       9860.869  "
      ]
     },
     "execution_count": 28,
     "metadata": {},
     "output_type": "execute_result"
    }
   ],
   "source": [
    "data.head()"
   ]
  },
  {
   "cell_type": "code",
   "execution_count": 29,
   "id": "4ee2fde8",
   "metadata": {},
   "outputs": [],
   "source": [
    "data = pd.get_dummies(data, drop_first=True)"
   ]
  },
  {
   "cell_type": "code",
   "execution_count": 30,
   "id": "d5c09f68",
   "metadata": {},
   "outputs": [
    {
     "data": {
      "text/html": [
       "<div>\n",
       "<style scoped>\n",
       "    .dataframe tbody tr th:only-of-type {\n",
       "        vertical-align: middle;\n",
       "    }\n",
       "\n",
       "    .dataframe tbody tr th {\n",
       "        vertical-align: top;\n",
       "    }\n",
       "\n",
       "    .dataframe thead th {\n",
       "        text-align: right;\n",
       "    }\n",
       "</style>\n",
       "<table border=\"1\" class=\"dataframe\">\n",
       "  <thead>\n",
       "    <tr style=\"text-align: right;\">\n",
       "      <th></th>\n",
       "      <th>Age</th>\n",
       "      <th>Eduacation</th>\n",
       "      <th>Race</th>\n",
       "      <th>Hisp</th>\n",
       "      <th>MaritalStatus</th>\n",
       "      <th>Nodeg</th>\n",
       "      <th>Earnings_1974</th>\n",
       "      <th>Earnings_1975</th>\n",
       "      <th>Earnings_1978</th>\n",
       "    </tr>\n",
       "  </thead>\n",
       "  <tbody>\n",
       "    <tr>\n",
       "      <th>0</th>\n",
       "      <td>45</td>\n",
       "      <td>2</td>\n",
       "      <td>0</td>\n",
       "      <td>0</td>\n",
       "      <td>0</td>\n",
       "      <td>1</td>\n",
       "      <td>21516.670</td>\n",
       "      <td>25243.550</td>\n",
       "      <td>25564.670</td>\n",
       "    </tr>\n",
       "    <tr>\n",
       "      <th>1</th>\n",
       "      <td>21</td>\n",
       "      <td>1</td>\n",
       "      <td>0</td>\n",
       "      <td>0</td>\n",
       "      <td>1</td>\n",
       "      <td>0</td>\n",
       "      <td>3175.971</td>\n",
       "      <td>5852.565</td>\n",
       "      <td>13496.080</td>\n",
       "    </tr>\n",
       "    <tr>\n",
       "      <th>2</th>\n",
       "      <td>38</td>\n",
       "      <td>0</td>\n",
       "      <td>0</td>\n",
       "      <td>0</td>\n",
       "      <td>0</td>\n",
       "      <td>0</td>\n",
       "      <td>23039.020</td>\n",
       "      <td>25130.760</td>\n",
       "      <td>25564.670</td>\n",
       "    </tr>\n",
       "    <tr>\n",
       "      <th>3</th>\n",
       "      <td>48</td>\n",
       "      <td>2</td>\n",
       "      <td>0</td>\n",
       "      <td>0</td>\n",
       "      <td>0</td>\n",
       "      <td>1</td>\n",
       "      <td>24994.370</td>\n",
       "      <td>25243.550</td>\n",
       "      <td>25564.670</td>\n",
       "    </tr>\n",
       "    <tr>\n",
       "      <th>4</th>\n",
       "      <td>18</td>\n",
       "      <td>2</td>\n",
       "      <td>0</td>\n",
       "      <td>0</td>\n",
       "      <td>0</td>\n",
       "      <td>1</td>\n",
       "      <td>1669.295</td>\n",
       "      <td>10727.610</td>\n",
       "      <td>9860.869</td>\n",
       "    </tr>\n",
       "  </tbody>\n",
       "</table>\n",
       "</div>"
      ],
      "text/plain": [
       "   Age  Eduacation  Race  Hisp  MaritalStatus  Nodeg  Earnings_1974  \\\n",
       "0   45           2     0     0              0      1      21516.670   \n",
       "1   21           1     0     0              1      0       3175.971   \n",
       "2   38           0     0     0              0      0      23039.020   \n",
       "3   48           2     0     0              0      1      24994.370   \n",
       "4   18           2     0     0              0      1       1669.295   \n",
       "\n",
       "   Earnings_1975  Earnings_1978  \n",
       "0      25243.550      25564.670  \n",
       "1       5852.565      13496.080  \n",
       "2      25130.760      25564.670  \n",
       "3      25243.550      25564.670  \n",
       "4      10727.610       9860.869  "
      ]
     },
     "execution_count": 30,
     "metadata": {},
     "output_type": "execute_result"
    }
   ],
   "source": [
    "data.head()"
   ]
  },
  {
   "cell_type": "markdown",
   "id": "70171b50",
   "metadata": {},
   "source": [
    "# train test split"
   ]
  },
  {
   "cell_type": "code",
   "execution_count": 31,
   "id": "b2cf53bb",
   "metadata": {},
   "outputs": [],
   "source": [
    "x = data.drop(columns=['Earnings_1978'])\n",
    "y = data['Earnings_1978']"
   ]
  },
  {
   "cell_type": "code",
   "execution_count": 32,
   "id": "e0b98b34",
   "metadata": {},
   "outputs": [],
   "source": [
    "from sklearn.model_selection import train_test_split"
   ]
  },
  {
   "cell_type": "code",
   "execution_count": 33,
   "id": "37179651",
   "metadata": {},
   "outputs": [],
   "source": [
    "train_x, test_x, train_y, test_y = train_test_split(x,y,train_size=0.8, random_state=10)"
   ]
  },
  {
   "cell_type": "code",
   "execution_count": 34,
   "id": "856cda15",
   "metadata": {},
   "outputs": [
    {
     "name": "stdout",
     "output_type": "stream",
     "text": [
      "(12793, 8) (3199, 8) (12793,) (3199,)\n"
     ]
    }
   ],
   "source": [
    "print(train_x.shape, test_x.shape, train_y.shape, test_y.shape)"
   ]
  },
  {
   "cell_type": "markdown",
   "id": "4e7f8c71",
   "metadata": {},
   "source": [
    "# Linear regression"
   ]
  },
  {
   "cell_type": "code",
   "execution_count": 35,
   "id": "4fbbc8fc",
   "metadata": {},
   "outputs": [],
   "source": [
    "from sklearn.linear_model import LinearRegression"
   ]
  },
  {
   "cell_type": "code",
   "execution_count": 36,
   "id": "478b28ec",
   "metadata": {},
   "outputs": [],
   "source": [
    "model_lr = LinearRegression()"
   ]
  },
  {
   "cell_type": "code",
   "execution_count": 37,
   "id": "a7a520a9",
   "metadata": {},
   "outputs": [
    {
     "data": {
      "text/plain": [
       "LinearRegression()"
      ]
     },
     "execution_count": 37,
     "metadata": {},
     "output_type": "execute_result"
    }
   ],
   "source": [
    "model_lr.fit(train_x,train_y)"
   ]
  },
  {
   "cell_type": "code",
   "execution_count": 38,
   "id": "65f30029",
   "metadata": {},
   "outputs": [],
   "source": [
    "pred_y = model_lr.predict(test_x)"
   ]
  },
  {
   "cell_type": "code",
   "execution_count": 39,
   "id": "e03a3240",
   "metadata": {},
   "outputs": [
    {
     "data": {
      "text/html": [
       "<div>\n",
       "<style scoped>\n",
       "    .dataframe tbody tr th:only-of-type {\n",
       "        vertical-align: middle;\n",
       "    }\n",
       "\n",
       "    .dataframe tbody tr th {\n",
       "        vertical-align: top;\n",
       "    }\n",
       "\n",
       "    .dataframe thead th {\n",
       "        text-align: right;\n",
       "    }\n",
       "</style>\n",
       "<table border=\"1\" class=\"dataframe\">\n",
       "  <thead>\n",
       "    <tr style=\"text-align: right;\">\n",
       "      <th></th>\n",
       "      <th>Actual Y</th>\n",
       "      <th>Predicted Y</th>\n",
       "      <th>Residual</th>\n",
       "    </tr>\n",
       "  </thead>\n",
       "  <tbody>\n",
       "    <tr>\n",
       "      <th>9550</th>\n",
       "      <td>0.000</td>\n",
       "      <td>5394.352173</td>\n",
       "      <td>-5394.352173</td>\n",
       "    </tr>\n",
       "    <tr>\n",
       "      <th>4302</th>\n",
       "      <td>6147.343</td>\n",
       "      <td>14869.484861</td>\n",
       "      <td>-8722.141861</td>\n",
       "    </tr>\n",
       "    <tr>\n",
       "      <th>15033</th>\n",
       "      <td>0.000</td>\n",
       "      <td>18325.512534</td>\n",
       "      <td>-18325.512534</td>\n",
       "    </tr>\n",
       "    <tr>\n",
       "      <th>10429</th>\n",
       "      <td>25564.670</td>\n",
       "      <td>24616.820086</td>\n",
       "      <td>947.849914</td>\n",
       "    </tr>\n",
       "    <tr>\n",
       "      <th>4854</th>\n",
       "      <td>25564.670</td>\n",
       "      <td>22376.286718</td>\n",
       "      <td>3188.383282</td>\n",
       "    </tr>\n",
       "    <tr>\n",
       "      <th>12904</th>\n",
       "      <td>0.000</td>\n",
       "      <td>3766.603713</td>\n",
       "      <td>-3766.603713</td>\n",
       "    </tr>\n",
       "    <tr>\n",
       "      <th>6797</th>\n",
       "      <td>17843.550</td>\n",
       "      <td>18898.805104</td>\n",
       "      <td>-1055.255104</td>\n",
       "    </tr>\n",
       "    <tr>\n",
       "      <th>7797</th>\n",
       "      <td>25564.670</td>\n",
       "      <td>24677.726550</td>\n",
       "      <td>886.943450</td>\n",
       "    </tr>\n",
       "    <tr>\n",
       "      <th>11314</th>\n",
       "      <td>16037.770</td>\n",
       "      <td>13599.297512</td>\n",
       "      <td>2438.472488</td>\n",
       "    </tr>\n",
       "    <tr>\n",
       "      <th>8188</th>\n",
       "      <td>20317.260</td>\n",
       "      <td>23280.063708</td>\n",
       "      <td>-2962.803708</td>\n",
       "    </tr>\n",
       "    <tr>\n",
       "      <th>2372</th>\n",
       "      <td>4207.088</td>\n",
       "      <td>10065.598253</td>\n",
       "      <td>-5858.510253</td>\n",
       "    </tr>\n",
       "    <tr>\n",
       "      <th>12887</th>\n",
       "      <td>13543.360</td>\n",
       "      <td>19440.938952</td>\n",
       "      <td>-5897.578952</td>\n",
       "    </tr>\n",
       "    <tr>\n",
       "      <th>3866</th>\n",
       "      <td>17908.570</td>\n",
       "      <td>17123.474285</td>\n",
       "      <td>785.095715</td>\n",
       "    </tr>\n",
       "    <tr>\n",
       "      <th>3152</th>\n",
       "      <td>0.000</td>\n",
       "      <td>7412.364262</td>\n",
       "      <td>-7412.364262</td>\n",
       "    </tr>\n",
       "    <tr>\n",
       "      <th>8616</th>\n",
       "      <td>22152.600</td>\n",
       "      <td>20820.075973</td>\n",
       "      <td>1332.524027</td>\n",
       "    </tr>\n",
       "    <tr>\n",
       "      <th>3645</th>\n",
       "      <td>25564.670</td>\n",
       "      <td>23745.951322</td>\n",
       "      <td>1818.718678</td>\n",
       "    </tr>\n",
       "    <tr>\n",
       "      <th>5756</th>\n",
       "      <td>15006.310</td>\n",
       "      <td>11873.545157</td>\n",
       "      <td>3132.764843</td>\n",
       "    </tr>\n",
       "    <tr>\n",
       "      <th>13387</th>\n",
       "      <td>12526.690</td>\n",
       "      <td>11196.624578</td>\n",
       "      <td>1330.065422</td>\n",
       "    </tr>\n",
       "    <tr>\n",
       "      <th>14032</th>\n",
       "      <td>9757.429</td>\n",
       "      <td>9949.135789</td>\n",
       "      <td>-191.706789</td>\n",
       "    </tr>\n",
       "    <tr>\n",
       "      <th>8620</th>\n",
       "      <td>24714.980</td>\n",
       "      <td>5962.684730</td>\n",
       "      <td>18752.295270</td>\n",
       "    </tr>\n",
       "  </tbody>\n",
       "</table>\n",
       "</div>"
      ],
      "text/plain": [
       "        Actual Y   Predicted Y      Residual\n",
       "9550       0.000   5394.352173  -5394.352173\n",
       "4302    6147.343  14869.484861  -8722.141861\n",
       "15033      0.000  18325.512534 -18325.512534\n",
       "10429  25564.670  24616.820086    947.849914\n",
       "4854   25564.670  22376.286718   3188.383282\n",
       "12904      0.000   3766.603713  -3766.603713\n",
       "6797   17843.550  18898.805104  -1055.255104\n",
       "7797   25564.670  24677.726550    886.943450\n",
       "11314  16037.770  13599.297512   2438.472488\n",
       "8188   20317.260  23280.063708  -2962.803708\n",
       "2372    4207.088  10065.598253  -5858.510253\n",
       "12887  13543.360  19440.938952  -5897.578952\n",
       "3866   17908.570  17123.474285    785.095715\n",
       "3152       0.000   7412.364262  -7412.364262\n",
       "8616   22152.600  20820.075973   1332.524027\n",
       "3645   25564.670  23745.951322   1818.718678\n",
       "5756   15006.310  11873.545157   3132.764843\n",
       "13387  12526.690  11196.624578   1330.065422\n",
       "14032   9757.429   9949.135789   -191.706789\n",
       "8620   24714.980   5962.684730  18752.295270"
      ]
     },
     "execution_count": 39,
     "metadata": {},
     "output_type": "execute_result"
    }
   ],
   "source": [
    "pd.DataFrame({'Actual Y':test_y,'Predicted Y':pred_y,'Residual':(test_y-pred_y)}).head(20)"
   ]
  },
  {
   "cell_type": "code",
   "execution_count": 40,
   "id": "f10fbfab",
   "metadata": {},
   "outputs": [
    {
     "data": {
      "text/plain": [
       "7725.786358196299"
      ]
     },
     "execution_count": 40,
     "metadata": {},
     "output_type": "execute_result"
    }
   ],
   "source": [
    "model_lr.intercept_"
   ]
  },
  {
   "cell_type": "code",
   "execution_count": 41,
   "id": "d11c8c6d",
   "metadata": {},
   "outputs": [
    {
     "data": {
      "text/plain": [
       "array([-1.05358816e+02,  2.55169983e+02, -8.92584689e+02, -3.61227922e+02,\n",
       "       -3.63305746e+01, -5.06167656e+02,  2.96180549e-01,  4.67154476e-01])"
      ]
     },
     "execution_count": 41,
     "metadata": {},
     "output_type": "execute_result"
    }
   ],
   "source": [
    "model_lr.coef_"
   ]
  },
  {
   "cell_type": "markdown",
   "id": "659905e4",
   "metadata": {},
   "source": [
    "# Validation"
   ]
  },
  {
   "cell_type": "code",
   "execution_count": 42,
   "id": "96ea5892",
   "metadata": {},
   "outputs": [],
   "source": [
    "from sklearn.metrics import r2_score, mean_squared_error, mean_absolute_percentage_error"
   ]
  },
  {
   "cell_type": "code",
   "execution_count": 43,
   "id": "b47c88c9",
   "metadata": {},
   "outputs": [],
   "source": [
    "def validation(test,pred):\n",
    "    print('R2 score: ',r2_score(test,pred))\n",
    "    print('MSE: ',mean_squared_error(test,pred))\n",
    "    print('RMSE: ',(mean_squared_error(test,pred))**0.5)\n",
    "    print('MAPE: ', mean_absolute_percentage_error(test,pred))"
   ]
  },
  {
   "cell_type": "code",
   "execution_count": 44,
   "id": "30c109b1",
   "metadata": {},
   "outputs": [
    {
     "data": {
      "text/plain": [
       "0.476093393322373"
      ]
     },
     "execution_count": 44,
     "metadata": {},
     "output_type": "execute_result"
    }
   ],
   "source": [
    "model_lr.score(test_x,test_y)"
   ]
  },
  {
   "cell_type": "code",
   "execution_count": 45,
   "id": "37962e18",
   "metadata": {},
   "outputs": [
    {
     "name": "stdout",
     "output_type": "stream",
     "text": [
      "R2 score:  0.476093393322373\n",
      "MSE:  48706023.87136882\n",
      "RMSE:  6978.970115380121\n",
      "MAPE:  5.340442617231451e+18\n"
     ]
    }
   ],
   "source": [
    "validation(test_y,pred_y)"
   ]
  },
  {
   "cell_type": "code",
   "execution_count": 46,
   "id": "82ef58cd",
   "metadata": {},
   "outputs": [],
   "source": [
    "# Calculate the adjusted r2"
   ]
  },
  {
   "cell_type": "code",
   "execution_count": 47,
   "id": "b7b023bf",
   "metadata": {},
   "outputs": [],
   "source": [
    "r2 = r2_score(test_y,pred_y)\n",
    "n = 283\n",
    "k = 16\n",
    "ra2 = 1 - (((n-1)/(n-k-1))*(1-r2))"
   ]
  },
  {
   "cell_type": "code",
   "execution_count": 48,
   "id": "060f5fa2",
   "metadata": {},
   "outputs": [
    {
     "name": "stdout",
     "output_type": "stream",
     "text": [
      "Adjusted R2:  0.4445802139733428\n"
     ]
    }
   ],
   "source": [
    "print('Adjusted R2: ',ra2)"
   ]
  },
  {
   "cell_type": "markdown",
   "id": "d052f955",
   "metadata": {},
   "source": [
    "# Checking the model for overfitting"
   ]
  },
  {
   "cell_type": "code",
   "execution_count": 49,
   "id": "33e11105",
   "metadata": {},
   "outputs": [
    {
     "name": "stdout",
     "output_type": "stream",
     "text": [
      "Training Accuracy\n",
      "0.47495738770651874\n",
      "Test Accuracy\n",
      "0.476093393322373\n"
     ]
    }
   ],
   "source": [
    "print('Training Accuracy')\n",
    "print(model_lr.score(train_x,train_y))\n",
    "\n",
    "print('Test Accuracy')\n",
    "print(model_lr.score(test_x,test_y))"
   ]
  },
  {
   "cell_type": "markdown",
   "id": "4d144da4",
   "metadata": {},
   "source": [
    "# Ridge regression and Lasso Regression"
   ]
  },
  {
   "cell_type": "code",
   "execution_count": 50,
   "id": "3dcd2eda",
   "metadata": {},
   "outputs": [],
   "source": [
    "from sklearn.linear_model import Ridge,Lasso"
   ]
  },
  {
   "cell_type": "code",
   "execution_count": 51,
   "id": "4e47e68f",
   "metadata": {},
   "outputs": [],
   "source": [
    "model_ridge = Ridge(alpha=10)"
   ]
  },
  {
   "cell_type": "code",
   "execution_count": 52,
   "id": "96adb86b",
   "metadata": {},
   "outputs": [
    {
     "data": {
      "text/plain": [
       "Ridge(alpha=10)"
      ]
     },
     "execution_count": 52,
     "metadata": {},
     "output_type": "execute_result"
    }
   ],
   "source": [
    "model_ridge.fit(train_x,train_y)"
   ]
  },
  {
   "cell_type": "code",
   "execution_count": 53,
   "id": "b3e49057",
   "metadata": {},
   "outputs": [],
   "source": [
    "y_pred_ridge = model_ridge.predict(test_x)"
   ]
  },
  {
   "cell_type": "code",
   "execution_count": 54,
   "id": "c86826c6",
   "metadata": {},
   "outputs": [
    {
     "name": "stdout",
     "output_type": "stream",
     "text": [
      "R2 score:  0.4760933495460362\n",
      "MSE:  48706027.94112338\n",
      "RMSE:  6978.9704069528325\n",
      "MAPE:  5.340117611759638e+18\n"
     ]
    }
   ],
   "source": [
    "validation(test_y,y_pred_ridge)"
   ]
  },
  {
   "cell_type": "code",
   "execution_count": 55,
   "id": "d04ed259",
   "metadata": {},
   "outputs": [],
   "source": [
    "# GridsearchCV"
   ]
  },
  {
   "cell_type": "code",
   "execution_count": 56,
   "id": "981d66ec",
   "metadata": {},
   "outputs": [],
   "source": [
    "from sklearn.model_selection import GridSearchCV, RandomizedSearchCV"
   ]
  },
  {
   "cell_type": "code",
   "execution_count": 57,
   "id": "67cf27ad",
   "metadata": {},
   "outputs": [],
   "source": [
    "# parameter grid\n",
    "params= {'alpha':[0.001,0.01,0.1,1,10,100,1000]}"
   ]
  },
  {
   "cell_type": "code",
   "execution_count": 58,
   "id": "b2082a40",
   "metadata": {},
   "outputs": [],
   "source": [
    "gscv = GridSearchCV(estimator=Ridge(),\n",
    "                   param_grid= params,\n",
    "                   scoring= 'r2',\n",
    "                   verbose=3,\n",
    "                   cv=2)"
   ]
  },
  {
   "cell_type": "code",
   "execution_count": 59,
   "id": "1e0c34f3",
   "metadata": {},
   "outputs": [
    {
     "name": "stdout",
     "output_type": "stream",
     "text": [
      "Fitting 2 folds for each of 7 candidates, totalling 14 fits\n",
      "[CV 1/2] END .......................alpha=0.001;, score=0.478 total time=   0.0s\n",
      "[CV 2/2] END .......................alpha=0.001;, score=0.470 total time=   0.0s\n",
      "[CV 1/2] END ........................alpha=0.01;, score=0.478 total time=   0.0s\n",
      "[CV 2/2] END ........................alpha=0.01;, score=0.470 total time=   0.0s\n",
      "[CV 1/2] END .........................alpha=0.1;, score=0.478 total time=   0.0s\n",
      "[CV 2/2] END .........................alpha=0.1;, score=0.470 total time=   0.0s\n",
      "[CV 1/2] END ...........................alpha=1;, score=0.478 total time=   0.0s\n",
      "[CV 2/2] END ...........................alpha=1;, score=0.470 total time=   0.0s\n",
      "[CV 1/2] END ..........................alpha=10;, score=0.478 total time=   0.0s\n",
      "[CV 2/2] END ..........................alpha=10;, score=0.470 total time=   0.0s\n",
      "[CV 1/2] END .........................alpha=100;, score=0.478 total time=   0.0s\n",
      "[CV 2/2] END .........................alpha=100;, score=0.471 total time=   0.0s\n",
      "[CV 1/2] END ........................alpha=1000;, score=0.477 total time=   0.0s\n",
      "[CV 2/2] END ........................alpha=1000;, score=0.470 total time=   0.0s\n"
     ]
    },
    {
     "data": {
      "text/plain": [
       "GridSearchCV(cv=2, estimator=Ridge(),\n",
       "             param_grid={'alpha': [0.001, 0.01, 0.1, 1, 10, 100, 1000]},\n",
       "             scoring='r2', verbose=3)"
      ]
     },
     "execution_count": 59,
     "metadata": {},
     "output_type": "execute_result"
    }
   ],
   "source": [
    "gscv.fit(train_x,train_y)"
   ]
  },
  {
   "cell_type": "code",
   "execution_count": 60,
   "id": "82ffd7ad",
   "metadata": {},
   "outputs": [
    {
     "data": {
      "text/plain": [
       "{'alpha': 100}"
      ]
     },
     "execution_count": 60,
     "metadata": {},
     "output_type": "execute_result"
    }
   ],
   "source": [
    "gscv.best_params_"
   ]
  },
  {
   "cell_type": "code",
   "execution_count": 61,
   "id": "bf9d8128",
   "metadata": {},
   "outputs": [],
   "source": [
    "model_ridge = Ridge(**gscv.best_params_)"
   ]
  },
  {
   "cell_type": "code",
   "execution_count": 62,
   "id": "be66643c",
   "metadata": {},
   "outputs": [
    {
     "data": {
      "text/plain": [
       "Ridge(alpha=100)"
      ]
     },
     "execution_count": 62,
     "metadata": {},
     "output_type": "execute_result"
    }
   ],
   "source": [
    "model_ridge.fit(x,y)"
   ]
  },
  {
   "cell_type": "code",
   "execution_count": 63,
   "id": "4d5eb5a6",
   "metadata": {},
   "outputs": [],
   "source": [
    "y_pred_ridge = model_ridge.predict(test_x)"
   ]
  },
  {
   "cell_type": "code",
   "execution_count": 64,
   "id": "f3802bdc",
   "metadata": {},
   "outputs": [
    {
     "name": "stdout",
     "output_type": "stream",
     "text": [
      "R2 score:  0.47628626568008514\n",
      "MSE:  48688093.10749006\n",
      "RMSE:  6977.685368909239\n",
      "MAPE:  5.352015080727168e+18\n"
     ]
    }
   ],
   "source": [
    "validation(test_y,y_pred_ridge)"
   ]
  },
  {
   "cell_type": "code",
   "execution_count": 65,
   "id": "c7b49739",
   "metadata": {},
   "outputs": [],
   "source": [
    "# Lasso"
   ]
  },
  {
   "cell_type": "code",
   "execution_count": 66,
   "id": "97bd6553",
   "metadata": {},
   "outputs": [],
   "source": [
    "gscv = GridSearchCV(estimator=Lasso(),\n",
    "                   param_grid=params,\n",
    "                   scoring='r2',\n",
    "                   cv=2,\n",
    "                   verbose=3)"
   ]
  },
  {
   "cell_type": "code",
   "execution_count": 67,
   "id": "a36cf64a",
   "metadata": {},
   "outputs": [
    {
     "name": "stdout",
     "output_type": "stream",
     "text": [
      "Fitting 2 folds for each of 7 candidates, totalling 14 fits\n",
      "[CV 1/2] END .......................alpha=0.001;, score=0.466 total time=   0.0s\n",
      "[CV 2/2] END .......................alpha=0.001;, score=0.483 total time=   0.0s\n",
      "[CV 1/2] END ........................alpha=0.01;, score=0.466 total time=   0.0s\n",
      "[CV 2/2] END ........................alpha=0.01;, score=0.483 total time=   0.0s\n",
      "[CV 1/2] END .........................alpha=0.1;, score=0.466 total time=   0.0s\n",
      "[CV 2/2] END .........................alpha=0.1;, score=0.483 total time=   0.0s\n",
      "[CV 1/2] END ...........................alpha=1;, score=0.466 total time=   0.0s\n",
      "[CV 2/2] END ...........................alpha=1;, score=0.483 total time=   0.0s\n",
      "[CV 1/2] END ..........................alpha=10;, score=0.466 total time=   0.0s\n",
      "[CV 2/2] END ..........................alpha=10;, score=0.482 total time=   0.0s\n",
      "[CV 1/2] END .........................alpha=100;, score=0.465 total time=   0.0s\n",
      "[CV 2/2] END .........................alpha=100;, score=0.481 total time=   0.0s\n",
      "[CV 1/2] END ........................alpha=1000;, score=0.465 total time=   0.0s\n",
      "[CV 2/2] END ........................alpha=1000;, score=0.481 total time=   0.0s\n"
     ]
    },
    {
     "data": {
      "text/plain": [
       "GridSearchCV(cv=2, estimator=Lasso(),\n",
       "             param_grid={'alpha': [0.001, 0.01, 0.1, 1, 10, 100, 1000]},\n",
       "             scoring='r2', verbose=3)"
      ]
     },
     "execution_count": 67,
     "metadata": {},
     "output_type": "execute_result"
    }
   ],
   "source": [
    "gscv.fit(x,y)"
   ]
  },
  {
   "cell_type": "code",
   "execution_count": 68,
   "id": "c102b5cb",
   "metadata": {},
   "outputs": [
    {
     "data": {
      "text/plain": [
       "{'alpha': 10}"
      ]
     },
     "execution_count": 68,
     "metadata": {},
     "output_type": "execute_result"
    }
   ],
   "source": [
    "gscv.best_params_"
   ]
  },
  {
   "cell_type": "code",
   "execution_count": 69,
   "id": "9859579e",
   "metadata": {},
   "outputs": [
    {
     "data": {
      "text/plain": [
       "0.4762269569726324"
      ]
     },
     "execution_count": 69,
     "metadata": {},
     "output_type": "execute_result"
    }
   ],
   "source": [
    "gscv.score(test_x,test_y)"
   ]
  },
  {
   "cell_type": "code",
   "execution_count": 70,
   "id": "a6a26a92",
   "metadata": {},
   "outputs": [],
   "source": [
    "# RandomisedSearchCV"
   ]
  },
  {
   "cell_type": "code",
   "execution_count": 71,
   "id": "7b5369b6",
   "metadata": {},
   "outputs": [],
   "source": [
    "from scipy.stats import randint, uniform, loguniform"
   ]
  },
  {
   "cell_type": "code",
   "execution_count": 72,
   "id": "7ca60919",
   "metadata": {},
   "outputs": [],
   "source": [
    "params = {'alpha':loguniform(0.1,10)}"
   ]
  },
  {
   "cell_type": "code",
   "execution_count": 73,
   "id": "c9150b17",
   "metadata": {},
   "outputs": [],
   "source": [
    "rscv = RandomizedSearchCV(estimator=Ridge(),\n",
    "                         param_distributions=params,\n",
    "                         scoring='r2',\n",
    "                         verbose=3,cv=2,\n",
    "                         n_iter=100)"
   ]
  },
  {
   "cell_type": "code",
   "execution_count": 74,
   "id": "936dbd28",
   "metadata": {},
   "outputs": [
    {
     "name": "stdout",
     "output_type": "stream",
     "text": [
      "Fitting 2 folds for each of 100 candidates, totalling 200 fits\n",
      "[CV 1/2] END ..........alpha=0.6892737861767861;, score=0.466 total time=   0.0s\n",
      "[CV 2/2] END ..........alpha=0.6892737861767861;, score=0.483 total time=   0.0s\n",
      "[CV 1/2] END ..........alpha=0.8138927200000986;, score=0.466 total time=   0.0s\n",
      "[CV 2/2] END ..........alpha=0.8138927200000986;, score=0.483 total time=   0.0s\n",
      "[CV 1/2] END .........alpha=0.22956044733734973;, score=0.466 total time=   0.0s\n",
      "[CV 2/2] END .........alpha=0.22956044733734973;, score=0.483 total time=   0.0s\n",
      "[CV 1/2] END ...........alpha=4.419554620334504;, score=0.466 total time=   0.0s\n",
      "[CV 2/2] END ...........alpha=4.419554620334504;, score=0.483 total time=   0.0s\n",
      "[CV 1/2] END ..........alpha=1.3706657085896132;, score=0.466 total time=   0.0s\n",
      "[CV 2/2] END ..........alpha=1.3706657085896132;, score=0.483 total time=   0.0s\n",
      "[CV 1/2] END ..........alpha=0.2525720556492716;, score=0.466 total time=   0.0s\n",
      "[CV 2/2] END ..........alpha=0.2525720556492716;, score=0.483 total time=   0.0s\n",
      "[CV 1/2] END ...........alpha=5.155890180087344;, score=0.466 total time=   0.0s\n",
      "[CV 2/2] END ...........alpha=5.155890180087344;, score=0.483 total time=   0.0s\n",
      "[CV 1/2] END ...........alpha=3.923082168956843;, score=0.466 total time=   0.0s\n",
      "[CV 2/2] END ...........alpha=3.923082168956843;, score=0.483 total time=   0.0s\n",
      "[CV 1/2] END ...........alpha=1.676337799622166;, score=0.466 total time=   0.0s\n",
      "[CV 2/2] END ...........alpha=1.676337799622166;, score=0.483 total time=   0.0s\n",
      "[CV 1/2] END .........alpha=0.46761296442584305;, score=0.466 total time=   0.0s\n",
      "[CV 2/2] END .........alpha=0.46761296442584305;, score=0.483 total time=   0.0s\n",
      "[CV 1/2] END .........alpha=0.11552632681564079;, score=0.466 total time=   0.0s\n",
      "[CV 2/2] END .........alpha=0.11552632681564079;, score=0.483 total time=   0.0s\n",
      "[CV 1/2] END ...........alpha=1.262373334287557;, score=0.466 total time=   0.0s\n",
      "[CV 2/2] END ...........alpha=1.262373334287557;, score=0.483 total time=   0.0s\n",
      "[CV 1/2] END ...........alpha=8.332516515158353;, score=0.466 total time=   0.0s\n",
      "[CV 2/2] END ...........alpha=8.332516515158353;, score=0.483 total time=   0.0s\n",
      "[CV 1/2] END .........alpha=0.42236780566009824;, score=0.466 total time=   0.0s\n",
      "[CV 2/2] END .........alpha=0.42236780566009824;, score=0.483 total time=   0.0s\n",
      "[CV 1/2] END ..........alpha=2.0215085970986135;, score=0.466 total time=   0.0s\n",
      "[CV 2/2] END ..........alpha=2.0215085970986135;, score=0.483 total time=   0.0s\n",
      "[CV 1/2] END ...........alpha=0.728108678717623;, score=0.466 total time=   0.0s\n",
      "[CV 2/2] END ...........alpha=0.728108678717623;, score=0.483 total time=   0.0s\n",
      "[CV 1/2] END ...........alpha=5.041189795497166;, score=0.466 total time=   0.0s\n",
      "[CV 2/2] END ...........alpha=5.041189795497166;, score=0.483 total time=   0.0s\n",
      "[CV 1/2] END ...........alpha=4.581281663944793;, score=0.466 total time=   0.0s\n",
      "[CV 2/2] END ...........alpha=4.581281663944793;, score=0.483 total time=   0.0s\n",
      "[CV 1/2] END ..........alpha=1.5397024668714023;, score=0.466 total time=   0.0s\n",
      "[CV 2/2] END ..........alpha=1.5397024668714023;, score=0.483 total time=   0.0s\n",
      "[CV 1/2] END ..........alpha=1.6052942594731783;, score=0.466 total time=   0.0s\n",
      "[CV 2/2] END ..........alpha=1.6052942594731783;, score=0.483 total time=   0.0s\n",
      "[CV 1/2] END .........alpha=0.12822165286855625;, score=0.466 total time=   0.0s\n",
      "[CV 2/2] END .........alpha=0.12822165286855625;, score=0.483 total time=   0.0s\n",
      "[CV 1/2] END .........alpha=0.24305127298596796;, score=0.466 total time=   0.0s\n",
      "[CV 2/2] END .........alpha=0.24305127298596796;, score=0.483 total time=   0.0s\n",
      "[CV 1/2] END ..........alpha=0.6100023908258985;, score=0.466 total time=   0.0s\n",
      "[CV 2/2] END ..........alpha=0.6100023908258985;, score=0.483 total time=   0.0s\n",
      "[CV 1/2] END ...........alpha=2.532749692894296;, score=0.466 total time=   0.0s\n",
      "[CV 2/2] END ...........alpha=2.532749692894296;, score=0.483 total time=   0.0s\n",
      "[CV 1/2] END .........alpha=0.12126967027780869;, score=0.466 total time=   0.0s\n",
      "[CV 2/2] END .........alpha=0.12126967027780869;, score=0.483 total time=   0.0s\n",
      "[CV 1/2] END ...........alpha=2.468705984497607;, score=0.466 total time=   0.0s\n",
      "[CV 2/2] END ...........alpha=2.468705984497607;, score=0.483 total time=   0.0s\n",
      "[CV 1/2] END ...........alpha=6.663267618955094;, score=0.466 total time=   0.0s\n",
      "[CV 2/2] END ...........alpha=6.663267618955094;, score=0.483 total time=   0.0s\n",
      "[CV 1/2] END ..........alpha=0.6071037449685931;, score=0.466 total time=   0.0s\n",
      "[CV 2/2] END ..........alpha=0.6071037449685931;, score=0.483 total time=   0.0s\n",
      "[CV 1/2] END ..........alpha=0.6550525061197666;, score=0.466 total time=   0.0s\n",
      "[CV 2/2] END ..........alpha=0.6550525061197666;, score=0.483 total time=   0.0s\n",
      "[CV 1/2] END .........alpha=0.49700159665009924;, score=0.466 total time=   0.0s\n",
      "[CV 2/2] END .........alpha=0.49700159665009924;, score=0.483 total time=   0.0s\n",
      "[CV 1/2] END ...........alpha=9.841529475243755;, score=0.466 total time=   0.0s\n",
      "[CV 2/2] END ...........alpha=9.841529475243755;, score=0.483 total time=   0.0s\n",
      "[CV 1/2] END .........alpha=0.20479654647433604;, score=0.466 total time=   0.0s\n",
      "[CV 2/2] END .........alpha=0.20479654647433604;, score=0.483 total time=   0.0s\n",
      "[CV 1/2] END ..........alpha=0.3667288233008803;, score=0.466 total time=   0.0s\n",
      "[CV 2/2] END ..........alpha=0.3667288233008803;, score=0.483 total time=   0.0s\n",
      "[CV 1/2] END ............alpha=7.29283058423263;, score=0.466 total time=   0.0s\n",
      "[CV 2/2] END ............alpha=7.29283058423263;, score=0.483 total time=   0.0s\n",
      "[CV 1/2] END ...........alpha=0.895356397484459;, score=0.466 total time=   0.0s\n",
      "[CV 2/2] END ...........alpha=0.895356397484459;, score=0.483 total time=   0.0s\n",
      "[CV 1/2] END ............alpha=4.75889072184371;, score=0.466 total time=   0.0s\n",
      "[CV 2/2] END ............alpha=4.75889072184371;, score=0.483 total time=   0.0s\n",
      "[CV 1/2] END ..........alpha=0.3230530347600509;, score=0.466 total time=   0.0s\n",
      "[CV 2/2] END ..........alpha=0.3230530347600509;, score=0.483 total time=   0.0s\n",
      "[CV 1/2] END ...........alpha=0.687304611400525;, score=0.466 total time=   0.0s\n",
      "[CV 2/2] END ...........alpha=0.687304611400525;, score=0.483 total time=   0.0s\n",
      "[CV 1/2] END ..........alpha=1.3463254436200969;, score=0.466 total time=   0.0s\n",
      "[CV 2/2] END ..........alpha=1.3463254436200969;, score=0.483 total time=   0.0s\n",
      "[CV 1/2] END ..........alpha=0.4241376546527345;, score=0.466 total time=   0.0s\n",
      "[CV 2/2] END ..........alpha=0.4241376546527345;, score=0.483 total time=   0.0s\n",
      "[CV 1/2] END ..........alpha=0.7700602870880272;, score=0.466 total time=   0.0s\n",
      "[CV 2/2] END ..........alpha=0.7700602870880272;, score=0.483 total time=   0.0s\n",
      "[CV 1/2] END ...........alpha=0.649691324225638;, score=0.466 total time=   0.0s\n",
      "[CV 2/2] END ...........alpha=0.649691324225638;, score=0.483 total time=   0.0s\n",
      "[CV 1/2] END ..........alpha=3.4368389893315143;, score=0.466 total time=   0.0s\n",
      "[CV 2/2] END ..........alpha=3.4368389893315143;, score=0.483 total time=   0.0s\n",
      "[CV 1/2] END ..........alpha=1.9054212454968138;, score=0.466 total time=   0.0s\n",
      "[CV 2/2] END ..........alpha=1.9054212454968138;, score=0.483 total time=   0.0s\n",
      "[CV 1/2] END ...........alpha=4.015842080005807;, score=0.466 total time=   0.0s\n",
      "[CV 2/2] END ...........alpha=4.015842080005807;, score=0.483 total time=   0.0s\n",
      "[CV 1/2] END ..........alpha=1.1045517430905643;, score=0.466 total time=   0.0s\n",
      "[CV 2/2] END ..........alpha=1.1045517430905643;, score=0.483 total time=   0.0s\n",
      "[CV 1/2] END ............alpha=2.38401913688771;, score=0.466 total time=   0.0s\n",
      "[CV 2/2] END ............alpha=2.38401913688771;, score=0.483 total time=   0.0s\n",
      "[CV 1/2] END ..........alpha=4.3324983855996795;, score=0.466 total time=   0.0s\n",
      "[CV 2/2] END ..........alpha=4.3324983855996795;, score=0.483 total time=   0.0s\n",
      "[CV 1/2] END .........alpha=0.10616466777009798;, score=0.466 total time=   0.0s\n",
      "[CV 2/2] END .........alpha=0.10616466777009798;, score=0.483 total time=   0.0s\n",
      "[CV 1/2] END ..........alpha=3.7179002220103743;, score=0.466 total time=   0.0s\n",
      "[CV 2/2] END ..........alpha=3.7179002220103743;, score=0.483 total time=   0.0s\n",
      "[CV 1/2] END ..........alpha=0.6485668785978856;, score=0.466 total time=   0.0s\n",
      "[CV 2/2] END ..........alpha=0.6485668785978856;, score=0.483 total time=   0.0s\n",
      "[CV 1/2] END .........alpha=0.21152435490940943;, score=0.466 total time=   0.0s\n",
      "[CV 2/2] END .........alpha=0.21152435490940943;, score=0.483 total time=   0.0s\n",
      "[CV 1/2] END ............alpha=9.90746749089274;, score=0.466 total time=   0.0s\n",
      "[CV 2/2] END ............alpha=9.90746749089274;, score=0.483 total time=   0.0s\n",
      "[CV 1/2] END ...........alpha=5.848329068729175;, score=0.466 total time=   0.0s\n",
      "[CV 2/2] END ...........alpha=5.848329068729175;, score=0.483 total time=   0.0s\n",
      "[CV 1/2] END ...........alpha=6.387820770990387;, score=0.466 total time=   0.0s\n",
      "[CV 2/2] END ...........alpha=6.387820770990387;, score=0.483 total time=   0.0s\n",
      "[CV 1/2] END .........alpha=0.10906240181645491;, score=0.466 total time=   0.0s\n",
      "[CV 2/2] END .........alpha=0.10906240181645491;, score=0.483 total time=   0.0s\n",
      "[CV 1/2] END ...........alpha=8.312182249563838;, score=0.466 total time=   0.0s\n",
      "[CV 2/2] END ...........alpha=8.312182249563838;, score=0.483 total time=   0.0s\n",
      "[CV 1/2] END ...........alpha=6.567781630830485;, score=0.466 total time=   0.0s\n",
      "[CV 2/2] END ...........alpha=6.567781630830485;, score=0.483 total time=   0.0s\n"
     ]
    },
    {
     "name": "stdout",
     "output_type": "stream",
     "text": [
      "[CV 1/2] END ..........alpha=2.1856230247042316;, score=0.466 total time=   0.0s\n",
      "[CV 2/2] END ..........alpha=2.1856230247042316;, score=0.483 total time=   0.0s\n",
      "[CV 1/2] END ..........alpha=0.8364775854226535;, score=0.466 total time=   0.0s\n",
      "[CV 2/2] END ..........alpha=0.8364775854226535;, score=0.483 total time=   0.0s\n",
      "[CV 1/2] END ...........alpha=5.461061113794896;, score=0.466 total time=   0.0s\n",
      "[CV 2/2] END ...........alpha=5.461061113794896;, score=0.483 total time=   0.0s\n",
      "[CV 1/2] END .........alpha=0.17158738088817815;, score=0.466 total time=   0.0s\n",
      "[CV 2/2] END .........alpha=0.17158738088817815;, score=0.483 total time=   0.0s\n",
      "[CV 1/2] END ...........alpha=7.758527440128589;, score=0.466 total time=   0.0s\n",
      "[CV 2/2] END ...........alpha=7.758527440128589;, score=0.483 total time=   0.0s\n",
      "[CV 1/2] END ..........alpha=0.3659624934076426;, score=0.466 total time=   0.0s\n",
      "[CV 2/2] END ..........alpha=0.3659624934076426;, score=0.483 total time=   0.0s\n",
      "[CV 1/2] END ...........alpha=4.511427196932465;, score=0.466 total time=   0.0s\n",
      "[CV 2/2] END ...........alpha=4.511427196932465;, score=0.483 total time=   0.0s\n",
      "[CV 1/2] END ..........alpha=0.5486654132453433;, score=0.466 total time=   0.0s\n",
      "[CV 2/2] END ..........alpha=0.5486654132453433;, score=0.483 total time=   0.0s\n",
      "[CV 1/2] END ..........alpha=0.2829557347549447;, score=0.466 total time=   0.0s\n",
      "[CV 2/2] END ..........alpha=0.2829557347549447;, score=0.483 total time=   0.0s\n",
      "[CV 1/2] END .........alpha=0.24955295976250302;, score=0.466 total time=   0.0s\n",
      "[CV 2/2] END .........alpha=0.24955295976250302;, score=0.483 total time=   0.0s\n",
      "[CV 1/2] END ..........alpha=0.5521517425207535;, score=0.466 total time=   0.0s\n",
      "[CV 2/2] END ..........alpha=0.5521517425207535;, score=0.483 total time=   0.0s\n",
      "[CV 1/2] END ............alpha=6.18232187314051;, score=0.466 total time=   0.0s\n",
      "[CV 2/2] END ............alpha=6.18232187314051;, score=0.483 total time=   0.0s\n",
      "[CV 1/2] END ...........alpha=1.065940491590633;, score=0.466 total time=   0.0s\n",
      "[CV 2/2] END ...........alpha=1.065940491590633;, score=0.483 total time=   0.0s\n",
      "[CV 1/2] END ..........alpha=0.9045577973886001;, score=0.466 total time=   0.0s\n",
      "[CV 2/2] END ..........alpha=0.9045577973886001;, score=0.483 total time=   0.0s\n",
      "[CV 1/2] END ...........alpha=7.554861952302348;, score=0.466 total time=   0.0s\n",
      "[CV 2/2] END ...........alpha=7.554861952302348;, score=0.483 total time=   0.0s\n",
      "[CV 1/2] END .........alpha=0.16751102752136068;, score=0.466 total time=   0.0s\n",
      "[CV 2/2] END .........alpha=0.16751102752136068;, score=0.483 total time=   0.0s\n",
      "[CV 1/2] END ...........alpha=5.446796561579731;, score=0.466 total time=   0.0s\n",
      "[CV 2/2] END ...........alpha=5.446796561579731;, score=0.483 total time=   0.0s\n",
      "[CV 1/2] END ..........alpha=1.2594832840347219;, score=0.466 total time=   0.0s\n",
      "[CV 2/2] END ..........alpha=1.2594832840347219;, score=0.483 total time=   0.0s\n",
      "[CV 1/2] END .........alpha=0.10476156653161595;, score=0.466 total time=   0.0s\n",
      "[CV 2/2] END .........alpha=0.10476156653161595;, score=0.483 total time=   0.0s\n",
      "[CV 1/2] END ..........alpha=0.2441663834024225;, score=0.466 total time=   0.0s\n",
      "[CV 2/2] END ..........alpha=0.2441663834024225;, score=0.483 total time=   0.0s\n",
      "[CV 1/2] END .........alpha=0.34022846254934147;, score=0.466 total time=   0.0s\n",
      "[CV 2/2] END .........alpha=0.34022846254934147;, score=0.483 total time=   0.0s\n",
      "[CV 1/2] END .........alpha=0.11966244520462695;, score=0.466 total time=   0.0s\n",
      "[CV 2/2] END .........alpha=0.11966244520462695;, score=0.483 total time=   0.0s\n",
      "[CV 1/2] END ..........alpha=2.6912856459507717;, score=0.466 total time=   0.0s\n",
      "[CV 2/2] END ..........alpha=2.6912856459507717;, score=0.483 total time=   0.0s\n",
      "[CV 1/2] END ..........alpha=3.3511463257132017;, score=0.466 total time=   0.0s\n",
      "[CV 2/2] END ..........alpha=3.3511463257132017;, score=0.483 total time=   0.0s\n",
      "[CV 1/2] END ..........alpha=1.5715310614234617;, score=0.466 total time=   0.0s\n",
      "[CV 2/2] END ..........alpha=1.5715310614234617;, score=0.483 total time=   0.0s\n",
      "[CV 1/2] END .........alpha=0.21782482658116964;, score=0.466 total time=   0.0s\n",
      "[CV 2/2] END .........alpha=0.21782482658116964;, score=0.483 total time=   0.0s\n",
      "[CV 1/2] END ...........alpha=8.820422055408548;, score=0.466 total time=   0.0s\n",
      "[CV 2/2] END ...........alpha=8.820422055408548;, score=0.483 total time=   0.0s\n",
      "[CV 1/2] END ..........alpha=0.2195412563408779;, score=0.466 total time=   0.0s\n",
      "[CV 2/2] END ..........alpha=0.2195412563408779;, score=0.483 total time=   0.0s\n",
      "[CV 1/2] END ...........alpha=5.526915003017042;, score=0.466 total time=   0.0s\n",
      "[CV 2/2] END ...........alpha=5.526915003017042;, score=0.483 total time=   0.0s\n",
      "[CV 1/2] END ..........alpha=0.2557610836611088;, score=0.466 total time=   0.0s\n",
      "[CV 2/2] END ..........alpha=0.2557610836611088;, score=0.483 total time=   0.0s\n",
      "[CV 1/2] END ..........alpha=1.2885178201121745;, score=0.466 total time=   0.0s\n",
      "[CV 2/2] END ..........alpha=1.2885178201121745;, score=0.483 total time=   0.0s\n",
      "[CV 1/2] END ...........alpha=8.378807844653826;, score=0.466 total time=   0.0s\n",
      "[CV 2/2] END ...........alpha=8.378807844653826;, score=0.483 total time=   0.0s\n",
      "[CV 1/2] END ..........alpha=0.9626715732122296;, score=0.466 total time=   0.0s\n",
      "[CV 2/2] END ..........alpha=0.9626715732122296;, score=0.483 total time=   0.0s\n",
      "[CV 1/2] END ...........alpha=4.607522504182035;, score=0.466 total time=   0.0s\n",
      "[CV 2/2] END ...........alpha=4.607522504182035;, score=0.483 total time=   0.0s\n",
      "[CV 1/2] END ...........alpha=7.207243479672231;, score=0.466 total time=   0.0s\n",
      "[CV 2/2] END ...........alpha=7.207243479672231;, score=0.483 total time=   0.0s\n",
      "[CV 1/2] END ...........alpha=1.205402528518205;, score=0.466 total time=   0.0s\n",
      "[CV 2/2] END ...........alpha=1.205402528518205;, score=0.483 total time=   0.0s\n",
      "[CV 1/2] END .........alpha=0.13654308629154752;, score=0.466 total time=   0.0s\n",
      "[CV 2/2] END .........alpha=0.13654308629154752;, score=0.483 total time=   0.0s\n",
      "[CV 1/2] END .........alpha=0.10871463936440931;, score=0.466 total time=   0.0s\n",
      "[CV 2/2] END .........alpha=0.10871463936440931;, score=0.483 total time=   0.0s\n",
      "[CV 1/2] END .........alpha=0.21078940967188298;, score=0.466 total time=   0.0s\n",
      "[CV 2/2] END .........alpha=0.21078940967188298;, score=0.483 total time=   0.0s\n",
      "[CV 1/2] END ..........alpha=0.7534553914244777;, score=0.466 total time=   0.0s\n",
      "[CV 2/2] END ..........alpha=0.7534553914244777;, score=0.483 total time=   0.0s\n",
      "[CV 1/2] END .........alpha=0.21895699364725507;, score=0.466 total time=   0.0s\n",
      "[CV 2/2] END .........alpha=0.21895699364725507;, score=0.483 total time=   0.0s\n",
      "[CV 1/2] END .........alpha=0.23072310009415525;, score=0.466 total time=   0.0s\n",
      "[CV 2/2] END .........alpha=0.23072310009415525;, score=0.483 total time=   0.0s\n"
     ]
    },
    {
     "data": {
      "text/plain": [
       "RandomizedSearchCV(cv=2, estimator=Ridge(), n_iter=100,\n",
       "                   param_distributions={'alpha': <scipy.stats._distn_infrastructure.rv_frozen object at 0x7f87dac42df0>},\n",
       "                   scoring='r2', verbose=3)"
      ]
     },
     "execution_count": 74,
     "metadata": {},
     "output_type": "execute_result"
    }
   ],
   "source": [
    "rscv.fit(x,y)"
   ]
  },
  {
   "cell_type": "code",
   "execution_count": 75,
   "id": "358eaf67",
   "metadata": {},
   "outputs": [
    {
     "data": {
      "text/plain": [
       "{'alpha': 9.90746749089274}"
      ]
     },
     "execution_count": 75,
     "metadata": {},
     "output_type": "execute_result"
    }
   ],
   "source": [
    "rscv.best_params_"
   ]
  },
  {
   "cell_type": "code",
   "execution_count": 76,
   "id": "89ebab90",
   "metadata": {},
   "outputs": [
    {
     "data": {
      "text/plain": [
       "0.47629401756588574"
      ]
     },
     "execution_count": 76,
     "metadata": {},
     "output_type": "execute_result"
    }
   ],
   "source": [
    "rscv.score(test_x,test_y)"
   ]
  },
  {
   "cell_type": "markdown",
   "id": "49cea420",
   "metadata": {},
   "source": [
    "# KNN  Regression"
   ]
  },
  {
   "cell_type": "code",
   "execution_count": 77,
   "id": "3a324295",
   "metadata": {},
   "outputs": [],
   "source": [
    "from sklearn.neighbors import KNeighborsRegressor"
   ]
  },
  {
   "cell_type": "code",
   "execution_count": 78,
   "id": "b9923816",
   "metadata": {},
   "outputs": [],
   "source": [
    "model_knn =KNeighborsRegressor(n_neighbors=7)"
   ]
  },
  {
   "cell_type": "code",
   "execution_count": 79,
   "id": "0d5394d5",
   "metadata": {},
   "outputs": [],
   "source": [
    "from sklearn.preprocessing import StandardScaler"
   ]
  },
  {
   "cell_type": "code",
   "execution_count": 80,
   "id": "ce839962",
   "metadata": {},
   "outputs": [],
   "source": [
    "sc = StandardScaler()"
   ]
  },
  {
   "cell_type": "code",
   "execution_count": 81,
   "id": "70127353",
   "metadata": {},
   "outputs": [],
   "source": [
    "test_x_s = sc.fit_transform(test_x)\n",
    "train_x_s = sc.fit_transform(train_x)"
   ]
  },
  {
   "cell_type": "code",
   "execution_count": 82,
   "id": "8fd693b9",
   "metadata": {},
   "outputs": [
    {
     "data": {
      "text/plain": [
       "array([[ 0.88511471, -1.00283084,  3.54084257, ..., -0.64906589,\n",
       "         0.26452113,  0.19786679],\n",
       "       [-0.19990565,  0.56476629,  3.54084257, ...,  1.54067564,\n",
       "        -0.91715554, -0.41101321],\n",
       "       [ 0.61385962, -0.21903227, -0.28241866, ..., -0.64906589,\n",
       "         1.23448963,  1.24513182],\n",
       "       ...,\n",
       "       [ 1.42762489, -1.00283084, -0.28241866, ..., -0.64906589,\n",
       "         1.23448963,  1.24513182],\n",
       "       [-0.10948729,  2.13236342, -0.28241866, ..., -0.64906589,\n",
       "        -1.46554995, -1.47428629],\n",
       "       [-0.74241583, -1.00283084, -0.28241866, ..., -0.64906589,\n",
       "        -0.05293787, -0.04745939]])"
      ]
     },
     "execution_count": 82,
     "metadata": {},
     "output_type": "execute_result"
    }
   ],
   "source": [
    "train_x_s"
   ]
  },
  {
   "cell_type": "code",
   "execution_count": 83,
   "id": "e68234fd",
   "metadata": {},
   "outputs": [
    {
     "data": {
      "text/plain": [
       "KNeighborsRegressor(n_neighbors=7)"
      ]
     },
     "execution_count": 83,
     "metadata": {},
     "output_type": "execute_result"
    }
   ],
   "source": [
    "model_knn.fit(train_x_s,train_y)"
   ]
  },
  {
   "cell_type": "code",
   "execution_count": 84,
   "id": "fdc56e3d",
   "metadata": {},
   "outputs": [
    {
     "data": {
      "text/plain": [
       "0.4147771976359169"
      ]
     },
     "execution_count": 84,
     "metadata": {},
     "output_type": "execute_result"
    }
   ],
   "source": [
    "model_knn.score(test_x_s,test_y)"
   ]
  },
  {
   "cell_type": "code",
   "execution_count": 85,
   "id": "c8427903",
   "metadata": {},
   "outputs": [],
   "source": [
    "y_pred_knn= model_knn.predict(test_x_s)"
   ]
  },
  {
   "cell_type": "code",
   "execution_count": 86,
   "id": "6a2da376",
   "metadata": {},
   "outputs": [
    {
     "name": "stdout",
     "output_type": "stream",
     "text": [
      "R2 score:  0.4147771976359169\n",
      "MSE:  54406406.444791295\n",
      "RMSE:  7376.069850861724\n",
      "MAPE:  5.017392862086444e+18\n"
     ]
    }
   ],
   "source": [
    "validation(test_y,y_pred_knn)"
   ]
  },
  {
   "cell_type": "code",
   "execution_count": null,
   "id": "28368f9e",
   "metadata": {},
   "outputs": [],
   "source": []
  }
 ],
 "metadata": {
  "kernelspec": {
   "display_name": "Python 3 (ipykernel)",
   "language": "python",
   "name": "python3"
  },
  "language_info": {
   "codemirror_mode": {
    "name": "ipython",
    "version": 3
   },
   "file_extension": ".py",
   "mimetype": "text/x-python",
   "name": "python",
   "nbconvert_exporter": "python",
   "pygments_lexer": "ipython3",
   "version": "3.9.7"
  }
 },
 "nbformat": 4,
 "nbformat_minor": 5
}
